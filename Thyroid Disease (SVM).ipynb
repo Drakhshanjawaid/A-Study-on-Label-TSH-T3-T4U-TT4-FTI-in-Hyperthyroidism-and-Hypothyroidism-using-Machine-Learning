{
 "cells": [
  {
   "cell_type": "markdown",
   "metadata": {},
   "source": [
    "<h1> Thyroid Disease Analysis </h1>\n",
    "<h4> Step 1: Importing Libraries </h4>"
   ]
  },
  {
   "cell_type": "code",
   "execution_count": 1,
   "metadata": {},
   "outputs": [],
   "source": [
    "# Importing all the necessary Libraries\n",
    "# Important Libraries\n",
    "import pandas as pd\n",
    "import numpy as np\n",
    "\n",
    "#Libraries for analysis\n",
    "from sklearn import svm\n",
    "from sklearn.ensemble import RandomForestClassifier \n",
    "from sklearn.model_selection import train_test_split\n",
    "from sklearn.preprocessing import StandardScaler\n",
    "from sklearn.neighbors import KNeighborsClassifier\n",
    "\n",
    "# Libraries for visuals\n",
    "import matplotlib.pyplot as plt\n",
    "import seaborn as sns; sns.set(font_scale=1.2)\n",
    "%matplotlib inline\n",
    "\n",
    "# Libraries for testing\n",
    "from sklearn.metrics import confusion_matrix\n",
    "from sklearn.metrics import f1_score\n",
    "from sklearn.metrics import accuracy_score\n",
    "\n",
    "# Libraries for splitting\n",
    "from sklearn.model_selection import train_test_split\n",
    "\n",
    "#setting random seed\n",
    "np.random.seed(0)"
   ]
  },
  {
   "cell_type": "markdown",
   "metadata": {},
   "source": [
    "<h4> Step 2: Importing Data Set </h4>"
   ]
  },
  {
   "cell_type": "code",
   "execution_count": 2,
   "metadata": {},
   "outputs": [
    {
     "data": {
      "text/html": [
       "<div>\n",
       "<style scoped>\n",
       "    .dataframe tbody tr th:only-of-type {\n",
       "        vertical-align: middle;\n",
       "    }\n",
       "\n",
       "    .dataframe tbody tr th {\n",
       "        vertical-align: top;\n",
       "    }\n",
       "\n",
       "    .dataframe thead th {\n",
       "        text-align: right;\n",
       "    }\n",
       "</style>\n",
       "<table border=\"1\" class=\"dataframe\">\n",
       "  <thead>\n",
       "    <tr style=\"text-align: right;\">\n",
       "      <th></th>\n",
       "      <th>TSH</th>\n",
       "      <th>T3</th>\n",
       "      <th>TT4</th>\n",
       "      <th>T4U</th>\n",
       "      <th>FTI</th>\n",
       "      <th>Class</th>\n",
       "    </tr>\n",
       "  </thead>\n",
       "  <tbody>\n",
       "    <tr>\n",
       "      <th>0</th>\n",
       "      <td>0.00060</td>\n",
       "      <td>0.015</td>\n",
       "      <td>0.120</td>\n",
       "      <td>0.082</td>\n",
       "      <td>0.146</td>\n",
       "      <td>3</td>\n",
       "    </tr>\n",
       "    <tr>\n",
       "      <th>1</th>\n",
       "      <td>0.00025</td>\n",
       "      <td>0.030</td>\n",
       "      <td>0.143</td>\n",
       "      <td>0.133</td>\n",
       "      <td>0.108</td>\n",
       "      <td>3</td>\n",
       "    </tr>\n",
       "    <tr>\n",
       "      <th>2</th>\n",
       "      <td>0.00190</td>\n",
       "      <td>0.024</td>\n",
       "      <td>0.102</td>\n",
       "      <td>0.131</td>\n",
       "      <td>0.078</td>\n",
       "      <td>3</td>\n",
       "    </tr>\n",
       "    <tr>\n",
       "      <th>3</th>\n",
       "      <td>0.00090</td>\n",
       "      <td>0.017</td>\n",
       "      <td>0.077</td>\n",
       "      <td>0.090</td>\n",
       "      <td>0.085</td>\n",
       "      <td>3</td>\n",
       "    </tr>\n",
       "    <tr>\n",
       "      <th>4</th>\n",
       "      <td>0.00025</td>\n",
       "      <td>0.026</td>\n",
       "      <td>0.139</td>\n",
       "      <td>0.090</td>\n",
       "      <td>0.153</td>\n",
       "      <td>3</td>\n",
       "    </tr>\n",
       "  </tbody>\n",
       "</table>\n",
       "</div>"
      ],
      "text/plain": [
       "       TSH     T3    TT4    T4U    FTI  Class\n",
       "0  0.00060  0.015  0.120  0.082  0.146      3\n",
       "1  0.00025  0.030  0.143  0.133  0.108      3\n",
       "2  0.00190  0.024  0.102  0.131  0.078      3\n",
       "3  0.00090  0.017  0.077  0.090  0.085      3\n",
       "4  0.00025  0.026  0.139  0.090  0.153      3"
      ]
     },
     "execution_count": 2,
     "metadata": {},
     "output_type": "execute_result"
    }
   ],
   "source": [
    "dia = pd.read_csv('E:/thyroidData.csv')\n",
    "dia.head()"
   ]
  },
  {
   "cell_type": "code",
   "execution_count": 3,
   "metadata": {},
   "outputs": [
    {
     "data": {
      "text/plain": [
       "166"
      ]
     },
     "execution_count": 3,
     "metadata": {},
     "output_type": "execute_result"
    }
   ],
   "source": [
    "len(dia[dia.Class==1])"
   ]
  },
  {
   "cell_type": "code",
   "execution_count": 4,
   "metadata": {},
   "outputs": [],
   "source": [
    "#dia.describe()"
   ]
  },
  {
   "cell_type": "markdown",
   "metadata": {},
   "source": [
    "<h4> Step 3: Prepare the data </h4>"
   ]
  },
  {
   "cell_type": "code",
   "execution_count": 5,
   "metadata": {},
   "outputs": [
    {
     "data": {
      "text/plain": [
       "<seaborn.axisgrid.FacetGrid at 0x234b3a200f0>"
      ]
     },
     "execution_count": 5,
     "metadata": {},
     "output_type": "execute_result"
    },
    {
     "data": {
      "image/png": "[encoded data removed]",
      "text/plain": [
       "<Figure size 414.895x360 with 1 Axes>"
      ]
     },
     "metadata": {
      "needs_background": "light"
     },
     "output_type": "display_data"
    }
   ],
   "source": [
    "#plot two ingredients\n",
    "sns.lmplot('TSH','T3', data = dia,hue='Class',\n",
    "          palette='Set1',fit_reg=False,scatter_kws={\"s\":60})"
   ]
  },
  {
   "cell_type": "code",
   "execution_count": null,
   "metadata": {},
   "outputs": [],
   "source": []
  },
  {
   "cell_type": "code",
   "execution_count": 6,
   "metadata": {},
   "outputs": [
    {
     "name": "stdout",
     "output_type": "stream",
     "text": [
      "No of obeservation in the training set: 5760\n",
      "No of obeservation in the training set: 1440\n"
     ]
    }
   ],
   "source": [
    "#Splitting the datasets\n",
    "X = dia.iloc[:,0:5] #ith location select all row and from column 0 to 7\n",
    "y = dia.iloc[:,5]\n",
    "X_train,X_test,y_train,y_test = train_test_split(X,y,random_state = 0, test_size = 0.2)\n",
    "print('No of obeservation in the training set:',len(X_train))\n",
    "print('No of obeservation in the training set:',len(X_test))\n"
   ]
  },
  {
   "cell_type": "markdown",
   "metadata": {},
   "source": [
    "<center><h3> Algorithm 1 : Support Vector Machine </h3> </center>\n",
    "<h4> Step 4: Fit the Model </h4>"
   ]
  },
  {
   "cell_type": "code",
   "execution_count": 7,
   "metadata": {},
   "outputs": [
    {
     "name": "stdout",
     "output_type": "stream",
     "text": [
      "C =  1\n",
      "Actual      1   2     3\n",
      "Predicted              \n",
      "1          33   0     3\n",
      "2           2  42    11\n",
      "3           4  41  1304\n",
      "Class A:\n",
      "TP: 33   TN: 1346   FP: 3   FN: 6\n",
      "Precision: 0.9166666666666666\n",
      "Recall:  0.8461538461538461\n",
      "Specificity:  0.9977761304670126\n",
      "F1 Score:  0.88\n",
      "Accuracy:  0.9935158501440923\n",
      "Class B:\n",
      "TP: 42   TN: 1337   FP: 13   FN: 41\n",
      "Precision: 0.7636363636363637\n",
      "Recall:  0.5060240963855421\n",
      "Specificity:  0.9903703703703703\n",
      "F1 Score:  0.6086956521739131\n",
      "Accuracy:  0.9623168178646196\n",
      "Class C:\n",
      "TP: 1304   TN: 75   FP: 45   FN: 14\n",
      "Precision: 0.9666419570051891\n",
      "Recall:  0.9893778452200304\n",
      "Specificity:  0.625\n",
      "F1 Score:  0.9778777652793401\n",
      "Accuracy:  0.958970792767733\n",
      "Overall Precision:  0.953587442718512\n",
      "Overall Recall:  0.9576388888888889\n",
      "Overall Specificity:  0.6561555623812183\n",
      "Overall Accuracy:  0.9600992492404549\n",
      "Overall F1 Score:  0.9539476623393089\n",
      "\n",
      "\n",
      "C =  10\n",
      "Actual      1   2     3\n",
      "Predicted              \n",
      "1          31   0     3\n",
      "2           2  54    14\n",
      "3           6  29  1301\n",
      "Class A:\n",
      "TP: 31   TN: 1355   FP: 3   FN: 8\n",
      "Precision: 0.9117647058823529\n",
      "Recall:  0.7948717948717948\n",
      "Specificity:  0.9977908689248896\n",
      "F1 Score:  0.8493150684931506\n",
      "Accuracy:  0.9921259842519685\n",
      "Class B:\n",
      "TP: 54   TN: 1332   FP: 16   FN: 29\n",
      "Precision: 0.7714285714285715\n",
      "Recall:  0.6506024096385542\n",
      "Specificity:  0.9881305637982196\n",
      "F1 Score:  0.7058823529411765\n",
      "Accuracy:  0.9685534591194969\n",
      "Class C:\n",
      "TP: 1301   TN: 85   FP: 35   FN: 17\n",
      "Precision: 0.9738023952095808\n",
      "Recall:  0.9871016691957512\n",
      "Specificity:  0.7083333333333334\n",
      "F1 Score:  0.9804069329314242\n",
      "Accuracy:  0.9638386648122392\n",
      "Overall Precision:  0.9604576054473686\n",
      "Overall Recall:  0.9625\n",
      "Overall Specificity:  0.7323000097337892\n",
      "Overall Accuracy:  0.9648765352189418\n",
      "Overall F1 Score:  0.9610332365062275\n",
      "\n",
      "\n",
      "C =  20\n",
      "Actual      1   2     3\n",
      "Predicted              \n",
      "1          32   0     3\n",
      "2           2  59    15\n",
      "3           5  24  1300\n",
      "Class A:\n",
      "TP: 32   TN: 1359   FP: 3   FN: 7\n",
      "Precision: 0.9142857142857143\n",
      "Recall:  0.8205128205128205\n",
      "Specificity:  0.9977973568281938\n",
      "F1 Score:  0.8648648648648649\n",
      "Accuracy:  0.9928622412562456\n",
      "Class B:\n",
      "TP: 59   TN: 1332   FP: 17   FN: 24\n",
      "Precision: 0.7763157894736842\n",
      "Recall:  0.7108433734939759\n",
      "Specificity:  0.9873980726464048\n",
      "F1 Score:  0.7421383647798742\n",
      "Accuracy:  0.9713687150837989\n",
      "Class C:\n",
      "TP: 1300   TN: 91   FP: 29   FN: 18\n",
      "Precision: 0.9781790820165538\n",
      "Recall:  0.9863429438543247\n",
      "Specificity:  0.7583333333333333\n",
      "F1 Score:  0.9822440498677748\n",
      "Accuracy:  0.9673157162726008\n",
      "Overall Precision:  0.9648134607508865\n",
      "Overall Recall:  0.9659722222222222\n",
      "Overall Specificity:  0.7780218543606142\n",
      "Overall Accuracy:  0.9682412116723865\n",
      "Overall F1 Score:  0.965225605369574\n",
      "\n",
      "\n",
      "C =  40\n",
      "Actual      1   2     3\n",
      "Predicted              \n",
      "1          32   0     3\n",
      "2           2  58    15\n",
      "3           5  25  1300\n",
      "Class A:\n",
      "TP: 32   TN: 1358   FP: 3   FN: 7\n",
      "Precision: 0.9142857142857143\n",
      "Recall:  0.8205128205128205\n",
      "Specificity:  0.9977957384276267\n",
      "F1 Score:  0.8648648648648649\n",
      "Accuracy:  0.9928571428571429\n",
      "Class B:\n",
      "TP: 58   TN: 1332   FP: 17   FN: 25\n",
      "Precision: 0.7733333333333333\n",
      "Recall:  0.6987951807228916\n",
      "Specificity:  0.9873980726464048\n",
      "F1 Score:  0.7341772151898734\n",
      "Accuracy:  0.9706703910614525\n",
      "Class C:\n",
      "TP: 1300   TN: 90   FP: 30   FN: 18\n",
      "Precision: 0.9774436090225563\n",
      "Recall:  0.9863429438543247\n",
      "Specificity:  0.75\n",
      "F1 Score:  0.9818731117824774\n",
      "Accuracy:  0.9666203059805285\n",
      "Overall Precision:  0.9639683932052353\n",
      "Overall Recall:  0.9652777777777778\n",
      "Overall Specificity:  0.7703944957141173\n",
      "Overall Accuracy:  0.9675643293832402\n",
      "Overall F1 Score:  0.9644272221665239\n",
      "\n",
      "\n",
      "C =  60\n",
      "Actual      1   2     3\n",
      "Predicted              \n",
      "1          33   0     3\n",
      "2           2  61    15\n",
      "3           4  22  1300\n",
      "Class A:\n",
      "TP: 33   TN: 1361   FP: 3   FN: 6\n",
      "Precision: 0.9166666666666666\n",
      "Recall:  0.8461538461538461\n",
      "Specificity:  0.9978005865102639\n",
      "F1 Score:  0.88\n",
      "Accuracy:  0.9935851746258019\n",
      "Class B:\n",
      "TP: 61   TN: 1333   FP: 17   FN: 22\n",
      "Precision: 0.782051282051282\n",
      "Recall:  0.7349397590361446\n",
      "Specificity:  0.9874074074074074\n",
      "F1 Score:  0.7577639751552795\n",
      "Accuracy:  0.9727843684577809\n",
      "Class C:\n",
      "TP: 1300   TN: 94   FP: 26   FN: 18\n",
      "Precision: 0.9803921568627451\n",
      "Recall:  0.9863429438543247\n",
      "Specificity:  0.7833333333333333\n",
      "F1 Score:  0.983358547655068\n",
      "Accuracy:  0.9694019471488178\n",
      "Overall Precision:  0.9672341105245515\n",
      "Overall Recall:  0.9680555555555556\n",
      "Overall Specificity:  0.800904424320867\n",
      "Overall Accuracy:  0.9702518685656555\n",
      "Overall F1 Score:  0.9675562331578249\n",
      "\n",
      "\n",
      "C =  80\n",
      "Actual      1   2     3\n",
      "Predicted              \n",
      "1          33   0     3\n",
      "2           2  63    17\n",
      "3           4  20  1298\n",
      "Class A:\n",
      "TP: 33   TN: 1361   FP: 3   FN: 6\n",
      "Precision: 0.9166666666666666\n",
      "Recall:  0.8461538461538461\n",
      "Specificity:  0.9978005865102639\n",
      "F1 Score:  0.88\n",
      "Accuracy:  0.9935851746258019\n",
      "Class B:\n",
      "TP: 63   TN: 1331   FP: 19   FN: 20\n",
      "Precision: 0.7682926829268293\n",
      "Recall:  0.7590361445783133\n",
      "Specificity:  0.9859259259259259\n",
      "F1 Score:  0.7636363636363637\n",
      "Accuracy:  0.9727843684577809\n",
      "Class C:\n",
      "TP: 1298   TN: 96   FP: 24   FN: 20\n",
      "Precision: 0.9818456883509834\n",
      "Recall:  0.9848254931714719\n",
      "Specificity:  0.8\n",
      "F1 Score:  0.9833333333333333\n",
      "Accuracy:  0.9694019471488178\n",
      "Overall Precision:  0.9677714652288354\n",
      "Overall Recall:  0.9680555555555556\n",
      "Overall Specificity:  0.8160736630039946\n",
      "Overall Accuracy:  0.9702518685656555\n",
      "Overall F1 Score:  0.967871632996633\n",
      "\n",
      "\n",
      "C =  100\n",
      "Actual      1   2     3\n",
      "Predicted              \n",
      "1          33   0     3\n",
      "2           2  63    17\n",
      "3           4  20  1298\n",
      "Class A:\n",
      "TP: 33   TN: 1361   FP: 3   FN: 6\n",
      "Precision: 0.9166666666666666\n",
      "Recall:  0.8461538461538461\n",
      "Specificity:  0.9978005865102639\n",
      "F1 Score:  0.88\n",
      "Accuracy:  0.9935851746258019\n",
      "Class B:\n",
      "TP: 63   TN: 1331   FP: 19   FN: 20\n",
      "Precision: 0.7682926829268293\n",
      "Recall:  0.7590361445783133\n",
      "Specificity:  0.9859259259259259\n",
      "F1 Score:  0.7636363636363637\n",
      "Accuracy:  0.9727843684577809\n",
      "Class C:\n",
      "TP: 1298   TN: 96   FP: 24   FN: 20\n",
      "Precision: 0.9818456883509834\n",
      "Recall:  0.9848254931714719\n",
      "Specificity:  0.8\n",
      "F1 Score:  0.9833333333333333\n",
      "Accuracy:  0.9694019471488178\n",
      "Overall Precision:  0.9677714652288354\n",
      "Overall Recall:  0.9680555555555556\n",
      "Overall Specificity:  0.8160736630039946\n",
      "Overall Accuracy:  0.9702518685656555\n",
      "Overall F1 Score:  0.967871632996633\n",
      "\n",
      "\n",
      "C =  150\n",
      "Actual      1   2     3\n",
      "Predicted              \n",
      "1          33   0     3\n",
      "2           2  64    18\n",
      "3           4  19  1297\n",
      "Class A:\n",
      "TP: 33   TN: 1361   FP: 3   FN: 6\n",
      "Precision: 0.9166666666666666\n",
      "Recall:  0.8461538461538461\n",
      "Specificity:  0.9978005865102639\n",
      "F1 Score:  0.88\n",
      "Accuracy:  0.9935851746258019\n",
      "Class B:\n",
      "TP: 64   TN: 1330   FP: 20   FN: 19\n",
      "Precision: 0.7619047619047619\n",
      "Recall:  0.7710843373493976\n",
      "Specificity:  0.9851851851851852\n",
      "F1 Score:  0.7664670658682635\n",
      "Accuracy:  0.9727843684577809\n",
      "Class C:\n",
      "TP: 1297   TN: 97   FP: 23   FN: 21\n",
      "Precision: 0.9825757575757575\n",
      "Recall:  0.9840667678300455\n",
      "Specificity:  0.8083333333333333\n",
      "F1 Score:  0.9833206974981046\n",
      "Accuracy:  0.9694019471488178\n",
      "Overall Precision:  0.9680714886964886\n",
      "Overall Recall:  0.9680555555555556\n",
      "Overall Specificity:  0.8236582823455584\n",
      "Overall Accuracy:  0.9702518685656555\n",
      "Overall F1 Score:  0.9680232262288665\n",
      "\n",
      "\n",
      "C =  200\n",
      "Actual      1   2     3\n",
      "Predicted              \n",
      "1          32   0     3\n",
      "2           2  63    20\n",
      "3           5  20  1295\n",
      "Class A:\n",
      "TP: 32   TN: 1358   FP: 3   FN: 7\n",
      "Precision: 0.9142857142857143\n",
      "Recall:  0.8205128205128205\n",
      "Specificity:  0.9977957384276267\n",
      "F1 Score:  0.8648648648648649\n",
      "Accuracy:  0.9928571428571429\n",
      "Class B:\n",
      "TP: 63   TN: 1327   FP: 22   FN: 20\n",
      "Precision: 0.7411764705882353\n",
      "Recall:  0.7590361445783133\n",
      "Specificity:  0.9836916234247591\n",
      "F1 Score:  0.75\n",
      "Accuracy:  0.9706703910614525\n",
      "Class C:\n",
      "TP: 1295   TN: 95   FP: 25   FN: 23\n",
      "Precision: 0.9810606060606061\n",
      "Recall:  0.9825493171471927\n",
      "Specificity:  0.7916666666666666\n",
      "F1 Score:  0.9818043972706596\n",
      "Accuracy:  0.9666203059805285\n",
      "Overall Precision:  0.9654254643776702\n",
      "Overall Recall:  0.9652777777777778\n",
      "Overall Specificity:  0.8083174341733326\n",
      "Overall Accuracy:  0.9675643293832402\n",
      "Overall F1 Score:  0.9652763370364299\n",
      "\n",
      "\n",
      "C =  400\n",
      "Actual      1   2     3\n",
      "Predicted              \n",
      "1          32   0     3\n",
      "2           1  60    18\n",
      "3           6  23  1297\n",
      "Class A:\n",
      "TP: 32   TN: 1357   FP: 3   FN: 7\n",
      "Precision: 0.9142857142857143\n",
      "Recall:  0.8205128205128205\n",
      "Specificity:  0.9977941176470588\n",
      "F1 Score:  0.8648648648648649\n",
      "Accuracy:  0.9928520371694067\n",
      "Class B:\n",
      "TP: 60   TN: 1329   FP: 19   FN: 23\n",
      "Precision: 0.759493670886076\n",
      "Recall:  0.7228915662650602\n",
      "Specificity:  0.9859050445103857\n",
      "F1 Score:  0.7407407407407407\n",
      "Accuracy:  0.9706498951781971\n",
      "Class C:\n",
      "TP: 1297   TN: 92   FP: 29   FN: 21\n",
      "Precision: 0.978129713423831\n",
      "Recall:  0.9840667678300455\n",
      "Specificity:  0.7603305785123967\n",
      "F1 Score:  0.981089258698941\n",
      "Accuracy:  0.9652536483669215\n",
      "Overall Precision:  0.9637986665509003\n",
      "Overall Recall:  0.9645833333333333\n",
      "Overall Specificity:  0.7797637442791224\n",
      "Overall Accuracy:  0.9663121384006942\n",
      "Overall F1 Score:  0.9640880931780663\n",
      "\n",
      "\n"
     ]
    },
    {
     "name": "stdout",
     "output_type": "stream",
     "text": [
      "C =  800\n",
      "Actual      1   2     3\n",
      "Predicted              \n",
      "1          34   0     3\n",
      "2           2  58    18\n",
      "3           3  25  1297\n",
      "Class A:\n",
      "TP: 34   TN: 1355   FP: 3   FN: 5\n",
      "Precision: 0.918918918918919\n",
      "Recall:  0.8717948717948718\n",
      "Specificity:  0.9977908689248896\n",
      "F1 Score:  0.8947368421052632\n",
      "Accuracy:  0.9942734430923408\n",
      "Class B:\n",
      "TP: 58   TN: 1331   FP: 20   FN: 25\n",
      "Precision: 0.7435897435897436\n",
      "Recall:  0.6987951807228916\n",
      "Specificity:  0.9851961509992598\n",
      "F1 Score:  0.7204968944099379\n",
      "Accuracy:  0.9686192468619247\n",
      "Class C:\n",
      "TP: 1297   TN: 92   FP: 28   FN: 21\n",
      "Precision: 0.9788679245283018\n",
      "Recall:  0.9840667678300455\n",
      "Specificity:  0.7666666666666667\n",
      "F1 Score:  0.9814604615966704\n",
      "Accuracy:  0.9659248956884562\n",
      "Overall Precision:  0.9636831326972838\n",
      "Overall Recall:  0.9645833333333333\n",
      "Overall Specificity:  0.7855220771442194\n",
      "Overall Accuracy:  0.9668479682552266\n",
      "Overall F1 Score:  0.9640700468489872\n",
      "\n",
      "\n",
      "C =  1000\n",
      "Actual      1   2     3\n",
      "Predicted              \n",
      "1          35   0     3\n",
      "2           2  58    19\n",
      "3           2  25  1296\n",
      "Class A:\n",
      "TP: 35   TN: 1354   FP: 3   FN: 4\n",
      "Precision: 0.9210526315789473\n",
      "Recall:  0.8974358974358975\n",
      "Specificity:  0.997789240972734\n",
      "F1 Score:  0.9090909090909091\n",
      "Accuracy:  0.9949856733524355\n",
      "Class B:\n",
      "TP: 58   TN: 1331   FP: 21   FN: 25\n",
      "Precision: 0.7341772151898734\n",
      "Recall:  0.6987951807228916\n",
      "Specificity:  0.9844674556213018\n",
      "F1 Score:  0.7160493827160493\n",
      "Accuracy:  0.9679442508710802\n",
      "Class C:\n",
      "TP: 1296   TN: 93   FP: 27   FN: 22\n",
      "Precision: 0.9795918367346939\n",
      "Recall:  0.9833080424886191\n",
      "Specificity:  0.775\n",
      "F1 Score:  0.9814464218099205\n",
      "Accuracy:  0.9659248956884562\n",
      "Overall Precision:  0.9638609738254617\n",
      "Overall Recall:  0.9645833333333333\n",
      "Overall Specificity:  0.7931073466767393\n",
      "Overall Accuracy:  0.9668283518058541\n",
      "Overall F1 Score:  0.9641896028926755\n",
      "\n",
      "\n"
     ]
    }
   ],
   "source": [
    "accu = []\n",
    "ppv = []\n",
    "sen = []\n",
    "spec = []\n",
    "f1 = []\n",
    "C = [1,10,20,40,60,80,100,150,200,400,800,1000]\n",
    "for c in C:\n",
    "    model = svm.SVC(kernel='rbf',C=c, gamma=2**10,decision_function_shape='ovr',probability=True)\n",
    "    model.fit(X_train,y_train)\n",
    "    y_pred = model.predict(X_test)\n",
    "    cm = confusion_matrix(y_pred,y_test)\n",
    "    mat = pd.crosstab(y_pred,y_test,rownames=['Predicted'],colnames=['Actual'])\n",
    "    print(\"C = \",c)\n",
    "    print(mat)\n",
    "    \n",
    "    # For Class A\n",
    "    print(\"Class A:\")\n",
    "    TP,TN,FP,FN = cm[0][0],(cm[1][1]+cm[2][2]),(cm[0][1]+cm[0][2]),(cm[1][0]+cm[2][0])\n",
    "    print(\"TP:\",TP , \" \" , \"TN:\",TN,\" \",\"FP:\",FP,\" \",\"FN:\",FN)\n",
    "    precision_A = TP/(TP+FP)\n",
    "    recall_A = TP/(TP+FN)\n",
    "    specificity_A = TN/(FP+TN)\n",
    "    F1_A = (2*TP)/(2*TP+FP+FN)\n",
    "    acc_A = (TP+TN)/(TP+TN+FP+FN)\n",
    "    print(\"Precision:\",precision_A)\n",
    "    print(\"Recall: \",recall_A)\n",
    "    print(\"Specificity: \",specificity_A)\n",
    "    print(\"F1 Score: \",F1_A)\n",
    "    print(\"Accuracy: \",acc_A)\n",
    "    # For Class B\n",
    "    print(\"Class B:\")\n",
    "    TP,TN,FP,FN = cm[1][1],(cm[0][0]+cm[2][2]),(cm[1][0]+cm[1][2]),(cm[0][1]+cm[2][1])\n",
    "    print(\"TP:\",TP , \" \" , \"TN:\",TN,\" \",\"FP:\",FP,\" \",\"FN:\",FN)\n",
    "    precision_B = TP/(TP+FP)\n",
    "    recall_B = TP/(TP+FN)\n",
    "    specificity_B = TN/(FP+TN)\n",
    "    F1_B = (2*TP)/(2*TP+FP+FN)\n",
    "    acc_B = (TP+TN)/(TP+TN+FP+FN)\n",
    "    print(\"Precision:\",precision_B)\n",
    "    print(\"Recall: \",recall_B)\n",
    "    print(\"Specificity: \",specificity_B)\n",
    "    print(\"F1 Score: \",F1_B)\n",
    "    print(\"Accuracy: \",acc_B)\n",
    "    # For Class C\n",
    "    print(\"Class C:\")\n",
    "    TP,TN,FP,FN = cm[2][2],(cm[0][0]+cm[1][1]),(cm[2][0]+cm[2][1]),(cm[0][2]+cm[1][2])\n",
    "    print(\"TP:\",TP , \" \" , \"TN:\",TN,\" \",\"FP:\",FP,\" \",\"FN:\",FN)\n",
    "    precision_C = TP/(TP+FP)\n",
    "    recall_C = TP/(TP+FN)\n",
    "    specificity_C = TN/(FP+TN)\n",
    "    F1_C = (2*TP)/(2*TP+FP+FN)\n",
    "    acc_C = (TP+TN)/(TP+TN+FP+FN)\n",
    "    print(\"Precision:\",precision_C)\n",
    "    print(\"Recall: \",recall_C)\n",
    "    print(\"Specificity: \",specificity_C)\n",
    "    print(\"F1 Score: \",F1_C)\n",
    "    print(\"Accuracy: \",acc_C)\n",
    "    \n",
    "    all_precision = (precision_A*39 + precision_B*83 + precision_C*1318) / 1440\n",
    "    all_recall = (recall_A*39 + recall_B*83 + recall_C*1318) / 1440\n",
    "    all_specificity = (specificity_A*39 + specificity_B*83 + specificity_C*1318) / 1440\n",
    "    all_accuracy = (acc_A*39 + acc_B*83 + acc_C*1318) / 1440\n",
    "    all_F1 =  (F1_A*39 + F1_B*83 + F1_C*1318) / 1440\n",
    "    print(\"Overall Precision: \",all_precision)\n",
    "    print(\"Overall Recall: \",all_recall)\n",
    "    print(\"Overall Specificity: \",all_specificity)\n",
    "    print(\"Overall Accuracy: \",all_accuracy)\n",
    "    print(\"Overall F1 Score: \",all_F1)\n",
    "    print(\"\\n\")\n",
    "    accu.append(round(all_accuracy,4)*100)\n",
    "    ppv.append(round(all_precision,4)*100)\n",
    "    sen.append(round(all_recall,4)*100)\n",
    "    spec.append(round(all_specificity,4)*100)\n",
    "    f1.append(round(all_F1,4)*100)\n",
    "    \n",
    "    \n",
    "\n",
    "    "
   ]
  },
  {
   "cell_type": "code",
   "execution_count": null,
   "metadata": {},
   "outputs": [],
   "source": []
  },
  {
   "cell_type": "code",
   "execution_count": 8,
   "metadata": {},
   "outputs": [
    {
     "data": {
      "image/png": "[encoded data removed]",
      "text/plain": [
       "<Figure size 432x288 with 1 Axes>"
      ]
     },
     "metadata": {
      "needs_background": "light"
     },
     "output_type": "display_data"
    },
    {
     "data": {
      "image/png": "[encoded data removed]",
      "text/plain": [
       "<Figure size 432x288 with 1 Axes>"
      ]
     },
     "metadata": {
      "needs_background": "light"
     },
     "output_type": "display_data"
    },
    {
     "data": {
      "image/png": "[encoded data removed]",
      "text/plain": [
       "<Figure size 432x288 with 1 Axes>"
      ]
     },
     "metadata": {
      "needs_background": "light"
     },
     "output_type": "display_data"
    },
    {
     "data": {
      "image/png": "[encoded data removed]",
      "text/plain": [
       "<Figure size 432x288 with 1 Axes>"
      ]
     },
     "metadata": {
      "needs_background": "light"
     },
     "output_type": "display_data"
    },
    {
     "data": {
      "image/png": "[encoded data removed]",
      "text/plain": [
       "<Figure size 432x288 with 1 Axes>"
      ]
     },
     "metadata": {
      "needs_background": "light"
     },
     "output_type": "display_data"
    }
   ],
   "source": [
    "fig,ax = plt.subplots()\n",
    "plt.plot(C,accu,color='red',marker='o',markersize=5,markerfacecolor='black')\n",
    "plt.xlabel('C parameter')\n",
    "plt.ylabel('Overall Accuracy')\n",
    "plt.xlim(-10,500)\n",
    "plt.figtext(.62,.8,\"Kernel = rbf\",fontsize = 15)\n",
    "plt.figtext(.62,.75,\"Gamma = 1024\",fontsize = 15)\n",
    "for i,txt in enumerate(C):\n",
    "    ax.annotate(txt,(C[i],accu[i]),textcoords='offset points',xytext=(0,5),ha='center')\n",
    "plt.show()\n",
    "fig,ax = plt.subplots()\n",
    "plt.plot(C,ppv,color='red',marker='o',markersize=5,markerfacecolor='black')\n",
    "plt.xlabel('C parameter')\n",
    "plt.ylabel('Overall Precision')\n",
    "plt.xlim(-10,500)\n",
    "plt.figtext(.62,.8,\"Kernel = rbf\",fontsize = 15)\n",
    "plt.figtext(.62,.75,\"Gamma = 1024\",fontsize = 15)\n",
    "plt.show()\n",
    "plt.plot(C,sen,color='red',marker='o',markersize=5,markerfacecolor='black')\n",
    "plt.xlabel('C parameter')\n",
    "plt.ylabel('Overall Recall')\n",
    "plt.xlim(-10,500)\n",
    "plt.figtext(.62,.8,\"Kernel = rbf\",fontsize = 15)\n",
    "plt.figtext(.62,.75,\"Gamma = 1024\",fontsize = 15)\n",
    "plt.show()\n",
    "plt.plot(C,spec,color='red',marker='o',markersize=5,markerfacecolor='black')\n",
    "plt.xlabel('C parameter')\n",
    "plt.ylabel('Overall Specificity')\n",
    "plt.xlim(-10,500)\n",
    "plt.figtext(.62,.8,\"Kernel = rbf\",fontsize = 15)\n",
    "plt.figtext(.62,.75,\"Gamma = 1024\",fontsize = 15)\n",
    "plt.show()\n",
    "plt.plot(C,f1,color='red',marker='o',markersize=5,markerfacecolor='black')\n",
    "plt.xlabel('C parameter')\n",
    "plt.ylabel('Overall F1 Score')\n",
    "plt.xlim(-10,500)\n",
    "plt.figtext(.62,.8,\"Kernel = rbf\",fontsize = 15)\n",
    "plt.figtext(.62,.75,\"Gamma = 1024\",fontsize = 15)\n",
    "plt.show()"
   ]
  },
  {
   "cell_type": "code",
   "execution_count": 9,
   "metadata": {},
   "outputs": [
    {
     "name": "stdout",
     "output_type": "stream",
     "text": [
      "C =  1\n",
      "Actual      1   2     3\n",
      "Predicted              \n",
      "3          39  83  1318\n",
      "Class A:\n",
      "TP: 0   TN: 1318   FP: 0   FN: 39\n",
      "Precision: nan\n",
      "Recall:  0.0\n",
      "Specificity:  1.0\n",
      "F1 Score:  0.0\n",
      "Accuracy:  0.9712601326455417\n",
      "Class B:\n",
      "TP: 0   TN: 1318   FP: 0   FN: 83\n",
      "Precision: nan\n",
      "Recall:  0.0\n",
      "Specificity:  1.0\n",
      "F1 Score:  0.0\n",
      "Accuracy:  0.940756602426838\n",
      "Class C:\n",
      "TP: 1318   TN: 0   FP: 122   FN: 0\n",
      "Precision: 0.9152777777777777\n",
      "Recall:  1.0\n",
      "Specificity:  0.0\n",
      "F1 Score:  0.9557650471356055\n",
      "Accuracy:  0.9152777777777777\n",
      "Overall Precision:  nan\n",
      "Overall Recall:  0.9152777777777777\n",
      "Overall Specificity:  0.08472222222222223\n",
      "Overall Accuracy:  0.9182625376984129\n",
      "Overall F1 Score:  0.87479050841995\n",
      "\n",
      "\n"
     ]
    },
    {
     "name": "stderr",
     "output_type": "stream",
     "text": [
      "C:\\Users\\hp\\Anaconda3\\lib\\site-packages\\ipykernel_launcher.py:20: RuntimeWarning: invalid value encountered in longlong_scalars\n",
      "C:\\Users\\hp\\Anaconda3\\lib\\site-packages\\ipykernel_launcher.py:34: RuntimeWarning: invalid value encountered in longlong_scalars\n"
     ]
    },
    {
     "name": "stdout",
     "output_type": "stream",
     "text": [
      "C =  10\n",
      "Actual      1   2     3\n",
      "Predicted              \n",
      "3          39  83  1318\n",
      "Class A:\n",
      "TP: 0   TN: 1318   FP: 0   FN: 39\n",
      "Precision: nan\n",
      "Recall:  0.0\n",
      "Specificity:  1.0\n",
      "F1 Score:  0.0\n",
      "Accuracy:  0.9712601326455417\n",
      "Class B:\n",
      "TP: 0   TN: 1318   FP: 0   FN: 83\n",
      "Precision: nan\n",
      "Recall:  0.0\n",
      "Specificity:  1.0\n",
      "F1 Score:  0.0\n",
      "Accuracy:  0.940756602426838\n",
      "Class C:\n",
      "TP: 1318   TN: 0   FP: 122   FN: 0\n",
      "Precision: 0.9152777777777777\n",
      "Recall:  1.0\n",
      "Specificity:  0.0\n",
      "F1 Score:  0.9557650471356055\n",
      "Accuracy:  0.9152777777777777\n",
      "Overall Precision:  nan\n",
      "Overall Recall:  0.9152777777777777\n",
      "Overall Specificity:  0.08472222222222223\n",
      "Overall Accuracy:  0.9182625376984129\n",
      "Overall F1 Score:  0.87479050841995\n",
      "\n",
      "\n"
     ]
    },
    {
     "name": "stderr",
     "output_type": "stream",
     "text": [
      "C:\\Users\\hp\\Anaconda3\\lib\\site-packages\\ipykernel_launcher.py:20: RuntimeWarning: invalid value encountered in longlong_scalars\n",
      "C:\\Users\\hp\\Anaconda3\\lib\\site-packages\\ipykernel_launcher.py:34: RuntimeWarning: invalid value encountered in longlong_scalars\n"
     ]
    },
    {
     "name": "stdout",
     "output_type": "stream",
     "text": [
      "C =  20\n",
      "Actual      1   2     3\n",
      "Predicted              \n",
      "3          39  83  1318\n",
      "Class A:\n",
      "TP: 0   TN: 1318   FP: 0   FN: 39\n",
      "Precision: nan\n",
      "Recall:  0.0\n",
      "Specificity:  1.0\n",
      "F1 Score:  0.0\n",
      "Accuracy:  0.9712601326455417\n",
      "Class B:\n",
      "TP: 0   TN: 1318   FP: 0   FN: 83\n",
      "Precision: nan\n",
      "Recall:  0.0\n",
      "Specificity:  1.0\n",
      "F1 Score:  0.0\n",
      "Accuracy:  0.940756602426838\n",
      "Class C:\n",
      "TP: 1318   TN: 0   FP: 122   FN: 0\n",
      "Precision: 0.9152777777777777\n",
      "Recall:  1.0\n",
      "Specificity:  0.0\n",
      "F1 Score:  0.9557650471356055\n",
      "Accuracy:  0.9152777777777777\n",
      "Overall Precision:  nan\n",
      "Overall Recall:  0.9152777777777777\n",
      "Overall Specificity:  0.08472222222222223\n",
      "Overall Accuracy:  0.9182625376984129\n",
      "Overall F1 Score:  0.87479050841995\n",
      "\n",
      "\n"
     ]
    },
    {
     "name": "stderr",
     "output_type": "stream",
     "text": [
      "C:\\Users\\hp\\Anaconda3\\lib\\site-packages\\ipykernel_launcher.py:20: RuntimeWarning: invalid value encountered in longlong_scalars\n",
      "C:\\Users\\hp\\Anaconda3\\lib\\site-packages\\ipykernel_launcher.py:34: RuntimeWarning: invalid value encountered in longlong_scalars\n"
     ]
    },
    {
     "name": "stdout",
     "output_type": "stream",
     "text": [
      "C =  40\n",
      "Actual      1   2     3\n",
      "Predicted              \n",
      "3          39  83  1318\n",
      "Class A:\n",
      "TP: 0   TN: 1318   FP: 0   FN: 39\n",
      "Precision: nan\n",
      "Recall:  0.0\n",
      "Specificity:  1.0\n",
      "F1 Score:  0.0\n",
      "Accuracy:  0.9712601326455417\n",
      "Class B:\n",
      "TP: 0   TN: 1318   FP: 0   FN: 83\n",
      "Precision: nan\n",
      "Recall:  0.0\n",
      "Specificity:  1.0\n",
      "F1 Score:  0.0\n",
      "Accuracy:  0.940756602426838\n",
      "Class C:\n",
      "TP: 1318   TN: 0   FP: 122   FN: 0\n",
      "Precision: 0.9152777777777777\n",
      "Recall:  1.0\n",
      "Specificity:  0.0\n",
      "F1 Score:  0.9557650471356055\n",
      "Accuracy:  0.9152777777777777\n",
      "Overall Precision:  nan\n",
      "Overall Recall:  0.9152777777777777\n",
      "Overall Specificity:  0.08472222222222223\n",
      "Overall Accuracy:  0.9182625376984129\n",
      "Overall F1 Score:  0.87479050841995\n",
      "\n",
      "\n"
     ]
    },
    {
     "name": "stderr",
     "output_type": "stream",
     "text": [
      "C:\\Users\\hp\\Anaconda3\\lib\\site-packages\\ipykernel_launcher.py:20: RuntimeWarning: invalid value encountered in longlong_scalars\n",
      "C:\\Users\\hp\\Anaconda3\\lib\\site-packages\\ipykernel_launcher.py:34: RuntimeWarning: invalid value encountered in longlong_scalars\n"
     ]
    },
    {
     "name": "stdout",
     "output_type": "stream",
     "text": [
      "C =  60\n",
      "Actual      1   2     3\n",
      "Predicted              \n",
      "3          39  83  1318\n",
      "Class A:\n",
      "TP: 0   TN: 1318   FP: 0   FN: 39\n",
      "Precision: nan\n",
      "Recall:  0.0\n",
      "Specificity:  1.0\n",
      "F1 Score:  0.0\n",
      "Accuracy:  0.9712601326455417\n",
      "Class B:\n",
      "TP: 0   TN: 1318   FP: 0   FN: 83\n",
      "Precision: nan\n",
      "Recall:  0.0\n",
      "Specificity:  1.0\n",
      "F1 Score:  0.0\n",
      "Accuracy:  0.940756602426838\n",
      "Class C:\n",
      "TP: 1318   TN: 0   FP: 122   FN: 0\n",
      "Precision: 0.9152777777777777\n",
      "Recall:  1.0\n",
      "Specificity:  0.0\n",
      "F1 Score:  0.9557650471356055\n",
      "Accuracy:  0.9152777777777777\n",
      "Overall Precision:  nan\n",
      "Overall Recall:  0.9152777777777777\n",
      "Overall Specificity:  0.08472222222222223\n",
      "Overall Accuracy:  0.9182625376984129\n",
      "Overall F1 Score:  0.87479050841995\n",
      "\n",
      "\n"
     ]
    },
    {
     "name": "stderr",
     "output_type": "stream",
     "text": [
      "C:\\Users\\hp\\Anaconda3\\lib\\site-packages\\ipykernel_launcher.py:20: RuntimeWarning: invalid value encountered in longlong_scalars\n",
      "C:\\Users\\hp\\Anaconda3\\lib\\site-packages\\ipykernel_launcher.py:34: RuntimeWarning: invalid value encountered in longlong_scalars\n"
     ]
    },
    {
     "name": "stdout",
     "output_type": "stream",
     "text": [
      "C =  80\n",
      "Actual      1   2     3\n",
      "Predicted              \n",
      "2           1   0     0\n",
      "3          38  83  1318\n",
      "Class A:\n",
      "TP: 0   TN: 1318   FP: 0   FN: 39\n",
      "Precision: nan\n",
      "Recall:  0.0\n",
      "Specificity:  1.0\n",
      "F1 Score:  0.0\n",
      "Accuracy:  0.9712601326455417\n",
      "Class B:\n",
      "TP: 0   TN: 1318   FP: 1   FN: 83\n",
      "Precision: 0.0\n",
      "Recall:  0.0\n",
      "Specificity:  0.9992418498862775\n",
      "F1 Score:  0.0\n",
      "Accuracy:  0.9400855920114123\n",
      "Class C:\n",
      "TP: 1318   TN: 0   FP: 121   FN: 0\n",
      "Precision: 0.9159138290479499\n",
      "Recall:  1.0\n",
      "Specificity:  0.0\n",
      "F1 Score:  0.9561117156329344\n",
      "Accuracy:  0.9159138290479499\n",
      "Overall Precision:  nan\n",
      "Overall Recall:  0.9152777777777777\n",
      "Overall Specificity:  0.08467852329205627\n",
      "Overall Accuracy:  0.9188060249967509\n",
      "Overall F1 Score:  0.8751078063918108\n",
      "\n",
      "\n"
     ]
    },
    {
     "name": "stderr",
     "output_type": "stream",
     "text": [
      "C:\\Users\\hp\\Anaconda3\\lib\\site-packages\\ipykernel_launcher.py:20: RuntimeWarning: invalid value encountered in longlong_scalars\n"
     ]
    },
    {
     "name": "stdout",
     "output_type": "stream",
     "text": [
      "C =  100\n",
      "Actual      1   2     3\n",
      "Predicted              \n",
      "2           1   0     0\n",
      "3          38  83  1318\n",
      "Class A:\n",
      "TP: 0   TN: 1318   FP: 0   FN: 39\n",
      "Precision: nan\n",
      "Recall:  0.0\n",
      "Specificity:  1.0\n",
      "F1 Score:  0.0\n",
      "Accuracy:  0.9712601326455417\n",
      "Class B:\n",
      "TP: 0   TN: 1318   FP: 1   FN: 83\n",
      "Precision: 0.0\n",
      "Recall:  0.0\n",
      "Specificity:  0.9992418498862775\n",
      "F1 Score:  0.0\n",
      "Accuracy:  0.9400855920114123\n",
      "Class C:\n",
      "TP: 1318   TN: 0   FP: 121   FN: 0\n",
      "Precision: 0.9159138290479499\n",
      "Recall:  1.0\n",
      "Specificity:  0.0\n",
      "F1 Score:  0.9561117156329344\n",
      "Accuracy:  0.9159138290479499\n",
      "Overall Precision:  nan\n",
      "Overall Recall:  0.9152777777777777\n",
      "Overall Specificity:  0.08467852329205627\n",
      "Overall Accuracy:  0.9188060249967509\n",
      "Overall F1 Score:  0.8751078063918108\n",
      "\n",
      "\n"
     ]
    },
    {
     "name": "stderr",
     "output_type": "stream",
     "text": [
      "C:\\Users\\hp\\Anaconda3\\lib\\site-packages\\ipykernel_launcher.py:20: RuntimeWarning: invalid value encountered in longlong_scalars\n"
     ]
    },
    {
     "name": "stdout",
     "output_type": "stream",
     "text": [
      "C =  150\n",
      "Actual      1   2     3\n",
      "Predicted              \n",
      "2           1   0     0\n",
      "3          38  83  1318\n",
      "Class A:\n",
      "TP: 0   TN: 1318   FP: 0   FN: 39\n",
      "Precision: nan\n",
      "Recall:  0.0\n",
      "Specificity:  1.0\n",
      "F1 Score:  0.0\n",
      "Accuracy:  0.9712601326455417\n",
      "Class B:\n",
      "TP: 0   TN: 1318   FP: 1   FN: 83\n",
      "Precision: 0.0\n",
      "Recall:  0.0\n",
      "Specificity:  0.9992418498862775\n",
      "F1 Score:  0.0\n",
      "Accuracy:  0.9400855920114123\n",
      "Class C:\n",
      "TP: 1318   TN: 0   FP: 121   FN: 0\n",
      "Precision: 0.9159138290479499\n",
      "Recall:  1.0\n",
      "Specificity:  0.0\n",
      "F1 Score:  0.9561117156329344\n",
      "Accuracy:  0.9159138290479499\n",
      "Overall Precision:  nan\n",
      "Overall Recall:  0.9152777777777777\n",
      "Overall Specificity:  0.08467852329205627\n",
      "Overall Accuracy:  0.9188060249967509\n",
      "Overall F1 Score:  0.8751078063918108\n",
      "\n",
      "\n"
     ]
    },
    {
     "name": "stderr",
     "output_type": "stream",
     "text": [
      "C:\\Users\\hp\\Anaconda3\\lib\\site-packages\\ipykernel_launcher.py:20: RuntimeWarning: invalid value encountered in longlong_scalars\n"
     ]
    },
    {
     "name": "stdout",
     "output_type": "stream",
     "text": [
      "C =  200\n",
      "Actual      1   2     3\n",
      "Predicted              \n",
      "2           1   0     1\n",
      "3          38  83  1317\n",
      "Class A:\n",
      "TP: 0   TN: 1317   FP: 0   FN: 39\n",
      "Precision: nan\n",
      "Recall:  0.0\n",
      "Specificity:  1.0\n",
      "F1 Score:  0.0\n",
      "Accuracy:  0.9712389380530974\n",
      "Class B:\n",
      "TP: 0   TN: 1317   FP: 2   FN: 83\n",
      "Precision: 0.0\n",
      "Recall:  0.0\n",
      "Specificity:  0.9984836997725549\n",
      "F1 Score:  0.0\n",
      "Accuracy:  0.9393723252496433\n",
      "Class C:\n",
      "TP: 1317   TN: 0   FP: 121   FN: 1\n",
      "Precision: 0.9158553546592489\n",
      "Recall:  0.9992412746585736\n",
      "Specificity:  0.0\n",
      "F1 Score:  0.9557329462989841\n",
      "Accuracy:  0.9152189020152884\n",
      "Overall Precision:  nan\n",
      "Overall Recall:  0.9145833333333333\n",
      "Overall Specificity:  0.08463482436189032\n",
      "Overall Accuracy:  0.9181282878027371\n",
      "Overall F1 Score:  0.8747611272375424\n",
      "\n",
      "\n"
     ]
    },
    {
     "name": "stderr",
     "output_type": "stream",
     "text": [
      "C:\\Users\\hp\\Anaconda3\\lib\\site-packages\\ipykernel_launcher.py:20: RuntimeWarning: invalid value encountered in longlong_scalars\n"
     ]
    },
    {
     "name": "stdout",
     "output_type": "stream",
     "text": [
      "C =  400\n",
      "Actual      1   2     3\n",
      "Predicted              \n",
      "2           1   0     1\n",
      "3          38  83  1317\n",
      "Class A:\n",
      "TP: 0   TN: 1317   FP: 0   FN: 39\n",
      "Precision: nan\n",
      "Recall:  0.0\n",
      "Specificity:  1.0\n",
      "F1 Score:  0.0\n",
      "Accuracy:  0.9712389380530974\n",
      "Class B:\n",
      "TP: 0   TN: 1317   FP: 2   FN: 83\n",
      "Precision: 0.0\n",
      "Recall:  0.0\n",
      "Specificity:  0.9984836997725549\n",
      "F1 Score:  0.0\n",
      "Accuracy:  0.9393723252496433\n",
      "Class C:\n",
      "TP: 1317   TN: 0   FP: 121   FN: 1\n",
      "Precision: 0.9158553546592489\n",
      "Recall:  0.9992412746585736\n",
      "Specificity:  0.0\n",
      "F1 Score:  0.9557329462989841\n",
      "Accuracy:  0.9152189020152884\n",
      "Overall Precision:  nan\n",
      "Overall Recall:  0.9145833333333333\n",
      "Overall Specificity:  0.08463482436189032\n",
      "Overall Accuracy:  0.9181282878027371\n",
      "Overall F1 Score:  0.8747611272375424\n",
      "\n",
      "\n"
     ]
    },
    {
     "name": "stderr",
     "output_type": "stream",
     "text": [
      "C:\\Users\\hp\\Anaconda3\\lib\\site-packages\\ipykernel_launcher.py:20: RuntimeWarning: invalid value encountered in longlong_scalars\n"
     ]
    },
    {
     "name": "stdout",
     "output_type": "stream",
     "text": [
      "C =  800\n",
      "Actual      1   2     3\n",
      "Predicted              \n",
      "2           2   0     1\n",
      "3          37  83  1317\n",
      "Class A:\n",
      "TP: 0   TN: 1317   FP: 0   FN: 39\n",
      "Precision: nan\n",
      "Recall:  0.0\n",
      "Specificity:  1.0\n",
      "F1 Score:  0.0\n",
      "Accuracy:  0.9712389380530974\n",
      "Class B:\n",
      "TP: 0   TN: 1317   FP: 3   FN: 83\n",
      "Precision: 0.0\n",
      "Recall:  0.0\n",
      "Specificity:  0.9977272727272727\n",
      "F1 Score:  0.0\n",
      "Accuracy:  0.9387027797576621\n",
      "Class C:\n",
      "TP: 1317   TN: 0   FP: 120   FN: 1\n",
      "Precision: 0.9164926931106472\n",
      "Recall:  0.9992412746585736\n",
      "Specificity:  0.0\n",
      "F1 Score:  0.9560798548094374\n",
      "Accuracy:  0.9158553546592489\n",
      "Overall Precision:  nan\n",
      "Overall Recall:  0.9145833333333333\n",
      "Overall Specificity:  0.08459122474747474\n",
      "Overall Accuracy:  0.9186722269061437\n",
      "Overall F1 Score:  0.8750786448880823\n",
      "\n",
      "\n"
     ]
    },
    {
     "name": "stderr",
     "output_type": "stream",
     "text": [
      "C:\\Users\\hp\\Anaconda3\\lib\\site-packages\\ipykernel_launcher.py:20: RuntimeWarning: invalid value encountered in longlong_scalars\n"
     ]
    },
    {
     "name": "stdout",
     "output_type": "stream",
     "text": [
      "C =  1000\n",
      "Actual      1   2     3\n",
      "Predicted              \n",
      "2           3   0     1\n",
      "3          36  83  1317\n",
      "Class A:\n",
      "TP: 0   TN: 1317   FP: 0   FN: 39\n",
      "Precision: nan\n",
      "Recall:  0.0\n",
      "Specificity:  1.0\n",
      "F1 Score:  0.0\n",
      "Accuracy:  0.9712389380530974\n",
      "Class B:\n",
      "TP: 0   TN: 1317   FP: 4   FN: 83\n",
      "Precision: 0.0\n",
      "Recall:  0.0\n",
      "Specificity:  0.9969719909159728\n",
      "F1 Score:  0.0\n",
      "Accuracy:  0.938034188034188\n",
      "Class C:\n",
      "TP: 1317   TN: 0   FP: 119   FN: 1\n",
      "Precision: 0.9171309192200557\n",
      "Recall:  0.9992412746585736\n",
      "Specificity:  0.0\n",
      "F1 Score:  0.9564270152505446\n",
      "Accuracy:  0.9164926931106472\n",
      "Overall Precision:  nan\n",
      "Overall Recall:  0.9145833333333333\n",
      "Overall Specificity:  0.08454769114307344\n",
      "Overall Accuracy:  0.9192170317435704\n",
      "Overall F1 Score:  0.8753963931251513\n",
      "\n",
      "\n"
     ]
    },
    {
     "name": "stderr",
     "output_type": "stream",
     "text": [
      "C:\\Users\\hp\\Anaconda3\\lib\\site-packages\\ipykernel_launcher.py:20: RuntimeWarning: invalid value encountered in longlong_scalars\n"
     ]
    }
   ],
   "source": [
    "accu = []\n",
    "ppv = []\n",
    "sen = []\n",
    "spec = []\n",
    "f1 = []\n",
    "C = [1,10,20,40,60,80,100,150,200,400,800,1000]\n",
    "for c in C:\n",
    "    model = svm.SVC(kernel='sigmoid',C=c, gamma=2**10,decision_function_shape='ovr',probability=True)\n",
    "    model.fit(X_train,y_train)\n",
    "    y_pred = model.predict(X_test)\n",
    "    cm = confusion_matrix(y_pred,y_test)\n",
    "    mat = pd.crosstab(y_pred,y_test,rownames=['Predicted'],colnames=['Actual'])\n",
    "    print(\"C = \",c)\n",
    "    print(mat)\n",
    "    \n",
    "    # For Class A\n",
    "    print(\"Class A:\")\n",
    "    TP,TN,FP,FN = cm[0][0],(cm[1][1]+cm[2][2]),(cm[0][1]+cm[0][2]),(cm[1][0]+cm[2][0])\n",
    "    print(\"TP:\",TP , \" \" , \"TN:\",TN,\" \",\"FP:\",FP,\" \",\"FN:\",FN)\n",
    "    precision_A = TP/(TP+FP)\n",
    "    recall_A = TP/(TP+FN)\n",
    "    specificity_A = TN/(FP+TN)\n",
    "    F1_A = (2*TP)/(2*TP+FP+FN)\n",
    "    acc_A = (TP+TN)/(TP+TN+FP+FN)\n",
    "    print(\"Precision:\",precision_A)\n",
    "    print(\"Recall: \",recall_A)\n",
    "    print(\"Specificity: \",specificity_A)\n",
    "    print(\"F1 Score: \",F1_A)\n",
    "    print(\"Accuracy: \",acc_A)\n",
    "    # For Class B\n",
    "    print(\"Class B:\")\n",
    "    TP,TN,FP,FN = cm[1][1],(cm[0][0]+cm[2][2]),(cm[1][0]+cm[1][2]),(cm[0][1]+cm[2][1])\n",
    "    print(\"TP:\",TP , \" \" , \"TN:\",TN,\" \",\"FP:\",FP,\" \",\"FN:\",FN)\n",
    "    precision_B = TP/(TP+FP)\n",
    "    recall_B = TP/(TP+FN)\n",
    "    specificity_B = TN/(FP+TN)\n",
    "    F1_B = (2*TP)/(2*TP+FP+FN)\n",
    "    acc_B = (TP+TN)/(TP+TN+FP+FN)\n",
    "    print(\"Precision:\",precision_B)\n",
    "    print(\"Recall: \",recall_B)\n",
    "    print(\"Specificity: \",specificity_B)\n",
    "    print(\"F1 Score: \",F1_B)\n",
    "    print(\"Accuracy: \",acc_B)\n",
    "    # For Class C\n",
    "    print(\"Class C:\")\n",
    "    TP,TN,FP,FN = cm[2][2],(cm[0][0]+cm[1][1]),(cm[2][0]+cm[2][1]),(cm[0][2]+cm[1][2])\n",
    "    print(\"TP:\",TP , \" \" , \"TN:\",TN,\" \",\"FP:\",FP,\" \",\"FN:\",FN)\n",
    "    precision_C = TP/(TP+FP)\n",
    "    recall_C = TP/(TP+FN)\n",
    "    specificity_C = TN/(FP+TN)\n",
    "    F1_C = (2*TP)/(2*TP+FP+FN)\n",
    "    acc_C = (TP+TN)/(TP+TN+FP+FN)\n",
    "    print(\"Precision:\",precision_C)\n",
    "    print(\"Recall: \",recall_C)\n",
    "    print(\"Specificity: \",specificity_C)\n",
    "    print(\"F1 Score: \",F1_C)\n",
    "    print(\"Accuracy: \",acc_C)\n",
    "    \n",
    "    all_precision = (precision_A*39 + precision_B*83 + precision_C*1318) / 1440\n",
    "    all_recall = (recall_A*39 + recall_B*83 + recall_C*1318) / 1440\n",
    "    all_specificity = (specificity_A*39 + specificity_B*83 + specificity_C*1318) / 1440\n",
    "    all_accuracy = (acc_A*39 + acc_B*83 + acc_C*1318) / 1440\n",
    "    all_F1 =  (F1_A*39 + F1_B*83 + F1_C*1318) / 1440\n",
    "    print(\"Overall Precision: \",all_precision)\n",
    "    print(\"Overall Recall: \",all_recall)\n",
    "    print(\"Overall Specificity: \",all_specificity)\n",
    "    print(\"Overall Accuracy: \",all_accuracy)\n",
    "    print(\"Overall F1 Score: \",all_F1)\n",
    "    print(\"\\n\")\n",
    "    accu.append(round(all_accuracy,4)*100)\n",
    "    ppv.append(round(all_precision,4)*100)\n",
    "    sen.append(round(all_recall,4)*100)\n",
    "    spec.append(round(all_specificity,4)*100)\n",
    "    f1.append(round(all_F1,4)*100)"
   ]
  },
  {
   "cell_type": "code",
   "execution_count": 10,
   "metadata": {},
   "outputs": [
    {
     "data": {
      "image/png": "[encoded data removed]",
      "text/plain": [
       "<Figure size 432x288 with 1 Axes>"
      ]
     },
     "metadata": {
      "needs_background": "light"
     },
     "output_type": "display_data"
    },
    {
     "data": {
      "image/png": "[encoded data removed]",
      "text/plain": [
       "<Figure size 432x288 with 1 Axes>"
      ]
     },
     "metadata": {
      "needs_background": "light"
     },
     "output_type": "display_data"
    },
    {
     "data": {
      "image/png": "[encoded data removed]",
      "text/plain": [
       "<Figure size 432x288 with 1 Axes>"
      ]
     },
     "metadata": {
      "needs_background": "light"
     },
     "output_type": "display_data"
    },
    {
     "data": {
      "image/png": "[encoded data removed]",
      "text/plain": [
       "<Figure size 432x288 with 1 Axes>"
      ]
     },
     "metadata": {
      "needs_background": "light"
     },
     "output_type": "display_data"
    },
    {
     "data": {
      "image/png": "[encoded data removed]",
      "text/plain": [
       "<Figure size 432x288 with 1 Axes>"
      ]
     },
     "metadata": {
      "needs_background": "light"
     },
     "output_type": "display_data"
    }
   ],
   "source": [
    "fig,ax = plt.subplots()\n",
    "plt.plot(C,accu,color='red',marker='o',markersize=5,markerfacecolor='black')\n",
    "plt.xlabel('C parameter')\n",
    "plt.ylabel('Overall Accuracy')\n",
    "plt.xlim(-10,500)\n",
    "plt.figtext(.62,.8,\"Kernel = Sigmoid\",fontsize = 15)\n",
    "plt.figtext(.62,.75,\"Gamma = 1024\",fontsize = 15)\n",
    "for i,txt in enumerate(C):\n",
    "    ax.annotate(txt,(C[i],accu[i]),textcoords='offset points',xytext=(0,5),ha='center')\n",
    "plt.show()\n",
    "fig,ax = plt.subplots()\n",
    "plt.plot(C,ppv,color='red',marker='o',markersize=5,markerfacecolor='black')\n",
    "plt.xlabel('C parameter')\n",
    "plt.ylabel('Overall Precision')\n",
    "plt.xlim(-10,500)\n",
    "plt.figtext(.62,.8,\"Kernel = Sigmoid\",fontsize = 15)\n",
    "plt.figtext(.62,.75,\"Gamma = 1024\",fontsize = 15)\n",
    "plt.show()\n",
    "plt.plot(C,sen,color='red',marker='o',markersize=5,markerfacecolor='black')\n",
    "plt.xlabel('C parameter')\n",
    "plt.ylabel('Overall Recall')\n",
    "plt.xlim(-10,500)\n",
    "plt.figtext(.62,.8,\"Kernel = Sigmoid\",fontsize = 15)\n",
    "plt.figtext(.62,.75,\"Gamma = 1024\",fontsize = 15)\n",
    "plt.show()\n",
    "plt.plot(C,spec,color='red',marker='o',markersize=5,markerfacecolor='black')\n",
    "plt.xlabel('C parameter')\n",
    "plt.ylabel('Overall Specificity')\n",
    "plt.xlim(-10,500)\n",
    "plt.figtext(.62,.8,\"Kernel = Sigmoid\",fontsize = 15)\n",
    "plt.figtext(.62,.75,\"Gamma = 1024\",fontsize = 15)\n",
    "plt.show()\n",
    "plt.plot(C,f1,color='red',marker='o',markersize=5,markerfacecolor='black')\n",
    "plt.xlabel('C parameter')\n",
    "plt.ylabel('Overall F1 Score')\n",
    "plt.xlim(-10,500)\n",
    "plt.figtext(.62,.8,\"Kernel = Sigmoid\",fontsize = 15)\n",
    "plt.figtext(.62,.75,\"Gamma = 1024\",fontsize = 15)\n",
    "plt.show()"
   ]
  },
  {
   "cell_type": "code",
   "execution_count": 9,
   "metadata": {},
   "outputs": [
    {
     "name": "stdout",
     "output_type": "stream",
     "text": [
      "              precision    recall  f1-score   support\n",
      "\n",
      "           1       0.92      0.90      0.91        39\n",
      "           2       0.73      0.70      0.72        83\n",
      "           3       0.98      0.98      0.98      1318\n",
      "\n",
      "   micro avg       0.96      0.96      0.96      1440\n",
      "   macro avg       0.88      0.86      0.87      1440\n",
      "weighted avg       0.96      0.96      0.96      1440\n",
      "\n"
     ]
    }
   ],
   "source": [
    "from sklearn.metrics import classification_report\n",
    "print(classification_report(y_test,y_pred))"
   ]
  },
  {
   "cell_type": "code",
   "execution_count": null,
   "metadata": {},
   "outputs": [],
   "source": []
  },
  {
   "cell_type": "code",
   "execution_count": null,
   "metadata": {},
   "outputs": [],
   "source": []
  },
  {
   "cell_type": "code",
   "execution_count": null,
   "metadata": {},
   "outputs": [],
   "source": []
  },
  {
   "cell_type": "code",
   "execution_count": null,
   "metadata": {},
   "outputs": [],
   "source": []
  },
  {
   "cell_type": "code",
   "execution_count": null,
   "metadata": {},
   "outputs": [],
   "source": []
  },
  {
   "cell_type": "code",
   "execution_count": null,
   "metadata": {},
   "outputs": [],
   "source": []
  },
  {
   "cell_type": "code",
   "execution_count": null,
   "metadata": {},
   "outputs": [],
   "source": []
  },
  {
   "cell_type": "code",
   "execution_count": 18,
   "metadata": {},
   "outputs": [],
   "source": []
  },
  {
   "cell_type": "code",
   "execution_count": null,
   "metadata": {},
   "outputs": [],
   "source": []
  },
  {
   "cell_type": "code",
   "execution_count": null,
   "metadata": {},
   "outputs": [],
   "source": []
  },
  {
   "cell_type": "code",
   "execution_count": null,
   "metadata": {},
   "outputs": [],
   "source": []
  },
  {
   "cell_type": "code",
   "execution_count": null,
   "metadata": {},
   "outputs": [],
   "source": []
  },
  {
   "cell_type": "code",
   "execution_count": 11,
   "metadata": {},
   "outputs": [
    {
     "name": "stdout",
     "output_type": "stream",
     "text": [
      "X =  0.1\n"
     ]
    },
    {
     "name": "stderr",
     "output_type": "stream",
     "text": [
      "C:\\Users\\hp\\Anaconda3\\lib\\site-packages\\sklearn\\ensemble\\forest.py:246: FutureWarning: The default value of n_estimators will change from 10 in version 0.20 to 100 in 0.22.\n",
      "  \"10 in version 0.20 to 100 in 0.22.\", FutureWarning)\n"
     ]
    },
    {
     "ename": "TypeError",
     "evalue": "'<' not supported between instances of 'float' and 'list'",
     "output_type": "error",
     "traceback": [
      "\u001b[1;31m---------------------------------------------------------------------------\u001b[0m",
      "\u001b[1;31mTypeError\u001b[0m                                 Traceback (most recent call last)",
      "\u001b[1;32m<ipython-input-11-5e04624823a8>\u001b[0m in \u001b[0;36m<module>\u001b[1;34m\u001b[0m\n\u001b[0;32m      5\u001b[0m     \u001b[0mclf\u001b[0m \u001b[1;33m=\u001b[0m \u001b[0mRandomForestClassifier\u001b[0m\u001b[1;33m(\u001b[0m\u001b[0mn_jobs\u001b[0m\u001b[1;33m=\u001b[0m\u001b[1;36m2\u001b[0m\u001b[1;33m,\u001b[0m\u001b[0mmin_samples_split\u001b[0m\u001b[1;33m=\u001b[0m\u001b[0mn\u001b[0m\u001b[1;33m,\u001b[0m \u001b[0mrandom_state\u001b[0m\u001b[1;33m=\u001b[0m\u001b[1;36m0\u001b[0m\u001b[1;33m)\u001b[0m\u001b[1;33m\u001b[0m\u001b[1;33m\u001b[0m\u001b[0m\n\u001b[0;32m      6\u001b[0m     \u001b[1;31m#training the classifier\u001b[0m\u001b[1;33m\u001b[0m\u001b[1;33m\u001b[0m\u001b[1;33m\u001b[0m\u001b[0m\n\u001b[1;32m----> 7\u001b[1;33m     \u001b[0mclf\u001b[0m\u001b[1;33m.\u001b[0m\u001b[0mfit\u001b[0m\u001b[1;33m(\u001b[0m\u001b[0mX_train\u001b[0m\u001b[1;33m,\u001b[0m\u001b[0my_train\u001b[0m\u001b[1;33m)\u001b[0m\u001b[1;33m\u001b[0m\u001b[1;33m\u001b[0m\u001b[0m\n\u001b[0m\u001b[0;32m      8\u001b[0m     \u001b[0my_pred\u001b[0m \u001b[1;33m=\u001b[0m \u001b[0mclf\u001b[0m\u001b[1;33m.\u001b[0m\u001b[0mpredict\u001b[0m\u001b[1;33m(\u001b[0m\u001b[0mX_test\u001b[0m\u001b[1;33m)\u001b[0m\u001b[1;33m\u001b[0m\u001b[1;33m\u001b[0m\u001b[0m\n\u001b[0;32m      9\u001b[0m     \u001b[0mcm\u001b[0m \u001b[1;33m=\u001b[0m \u001b[0mconfusion_matrix\u001b[0m\u001b[1;33m(\u001b[0m\u001b[0my_pred\u001b[0m\u001b[1;33m,\u001b[0m\u001b[0my_test\u001b[0m\u001b[1;33m)\u001b[0m\u001b[1;33m\u001b[0m\u001b[1;33m\u001b[0m\u001b[0m\n",
      "\u001b[1;32m~\\Anaconda3\\lib\\site-packages\\sklearn\\ensemble\\forest.py\u001b[0m in \u001b[0;36mfit\u001b[1;34m(self, X, y, sample_weight)\u001b[0m\n\u001b[0;32m    331\u001b[0m                     \u001b[0mt\u001b[0m\u001b[1;33m,\u001b[0m \u001b[0mself\u001b[0m\u001b[1;33m,\u001b[0m \u001b[0mX\u001b[0m\u001b[1;33m,\u001b[0m \u001b[0my\u001b[0m\u001b[1;33m,\u001b[0m \u001b[0msample_weight\u001b[0m\u001b[1;33m,\u001b[0m \u001b[0mi\u001b[0m\u001b[1;33m,\u001b[0m \u001b[0mlen\u001b[0m\u001b[1;33m(\u001b[0m\u001b[0mtrees\u001b[0m\u001b[1;33m)\u001b[0m\u001b[1;33m,\u001b[0m\u001b[1;33m\u001b[0m\u001b[1;33m\u001b[0m\u001b[0m\n\u001b[0;32m    332\u001b[0m                     verbose=self.verbose, class_weight=self.class_weight)\n\u001b[1;32m--> 333\u001b[1;33m                 for i, t in enumerate(trees))\n\u001b[0m\u001b[0;32m    334\u001b[0m \u001b[1;33m\u001b[0m\u001b[0m\n\u001b[0;32m    335\u001b[0m             \u001b[1;31m# Collect newly grown trees\u001b[0m\u001b[1;33m\u001b[0m\u001b[1;33m\u001b[0m\u001b[1;33m\u001b[0m\u001b[0m\n",
      "\u001b[1;32m~\\Anaconda3\\lib\\site-packages\\sklearn\\externals\\joblib\\parallel.py\u001b[0m in \u001b[0;36m__call__\u001b[1;34m(self, iterable)\u001b[0m\n\u001b[0;32m    928\u001b[0m \u001b[1;33m\u001b[0m\u001b[0m\n\u001b[0;32m    929\u001b[0m             \u001b[1;32mwith\u001b[0m \u001b[0mself\u001b[0m\u001b[1;33m.\u001b[0m\u001b[0m_backend\u001b[0m\u001b[1;33m.\u001b[0m\u001b[0mretrieval_context\u001b[0m\u001b[1;33m(\u001b[0m\u001b[1;33m)\u001b[0m\u001b[1;33m:\u001b[0m\u001b[1;33m\u001b[0m\u001b[1;33m\u001b[0m\u001b[0m\n\u001b[1;32m--> 930\u001b[1;33m                 \u001b[0mself\u001b[0m\u001b[1;33m.\u001b[0m\u001b[0mretrieve\u001b[0m\u001b[1;33m(\u001b[0m\u001b[1;33m)\u001b[0m\u001b[1;33m\u001b[0m\u001b[1;33m\u001b[0m\u001b[0m\n\u001b[0m\u001b[0;32m    931\u001b[0m             \u001b[1;31m# Make sure that we get a last message telling us we are done\u001b[0m\u001b[1;33m\u001b[0m\u001b[1;33m\u001b[0m\u001b[1;33m\u001b[0m\u001b[0m\n\u001b[0;32m    932\u001b[0m             \u001b[0melapsed_time\u001b[0m \u001b[1;33m=\u001b[0m \u001b[0mtime\u001b[0m\u001b[1;33m.\u001b[0m\u001b[0mtime\u001b[0m\u001b[1;33m(\u001b[0m\u001b[1;33m)\u001b[0m \u001b[1;33m-\u001b[0m \u001b[0mself\u001b[0m\u001b[1;33m.\u001b[0m\u001b[0m_start_time\u001b[0m\u001b[1;33m\u001b[0m\u001b[1;33m\u001b[0m\u001b[0m\n",
      "\u001b[1;32m~\\Anaconda3\\lib\\site-packages\\sklearn\\externals\\joblib\\parallel.py\u001b[0m in \u001b[0;36mretrieve\u001b[1;34m(self)\u001b[0m\n\u001b[0;32m    831\u001b[0m             \u001b[1;32mtry\u001b[0m\u001b[1;33m:\u001b[0m\u001b[1;33m\u001b[0m\u001b[1;33m\u001b[0m\u001b[0m\n\u001b[0;32m    832\u001b[0m                 \u001b[1;32mif\u001b[0m \u001b[0mgetattr\u001b[0m\u001b[1;33m(\u001b[0m\u001b[0mself\u001b[0m\u001b[1;33m.\u001b[0m\u001b[0m_backend\u001b[0m\u001b[1;33m,\u001b[0m \u001b[1;34m'supports_timeout'\u001b[0m\u001b[1;33m,\u001b[0m \u001b[1;32mFalse\u001b[0m\u001b[1;33m)\u001b[0m\u001b[1;33m:\u001b[0m\u001b[1;33m\u001b[0m\u001b[1;33m\u001b[0m\u001b[0m\n\u001b[1;32m--> 833\u001b[1;33m                     \u001b[0mself\u001b[0m\u001b[1;33m.\u001b[0m\u001b[0m_output\u001b[0m\u001b[1;33m.\u001b[0m\u001b[0mextend\u001b[0m\u001b[1;33m(\u001b[0m\u001b[0mjob\u001b[0m\u001b[1;33m.\u001b[0m\u001b[0mget\u001b[0m\u001b[1;33m(\u001b[0m\u001b[0mtimeout\u001b[0m\u001b[1;33m=\u001b[0m\u001b[0mself\u001b[0m\u001b[1;33m.\u001b[0m\u001b[0mtimeout\u001b[0m\u001b[1;33m)\u001b[0m\u001b[1;33m)\u001b[0m\u001b[1;33m\u001b[0m\u001b[1;33m\u001b[0m\u001b[0m\n\u001b[0m\u001b[0;32m    834\u001b[0m                 \u001b[1;32melse\u001b[0m\u001b[1;33m:\u001b[0m\u001b[1;33m\u001b[0m\u001b[1;33m\u001b[0m\u001b[0m\n\u001b[0;32m    835\u001b[0m                     \u001b[0mself\u001b[0m\u001b[1;33m.\u001b[0m\u001b[0m_output\u001b[0m\u001b[1;33m.\u001b[0m\u001b[0mextend\u001b[0m\u001b[1;33m(\u001b[0m\u001b[0mjob\u001b[0m\u001b[1;33m.\u001b[0m\u001b[0mget\u001b[0m\u001b[1;33m(\u001b[0m\u001b[1;33m)\u001b[0m\u001b[1;33m)\u001b[0m\u001b[1;33m\u001b[0m\u001b[1;33m\u001b[0m\u001b[0m\n",
      "\u001b[1;32m~\\Anaconda3\\lib\\multiprocessing\\pool.py\u001b[0m in \u001b[0;36mget\u001b[1;34m(self, timeout)\u001b[0m\n\u001b[0;32m    681\u001b[0m             \u001b[1;32mreturn\u001b[0m \u001b[0mself\u001b[0m\u001b[1;33m.\u001b[0m\u001b[0m_value\u001b[0m\u001b[1;33m\u001b[0m\u001b[1;33m\u001b[0m\u001b[0m\n\u001b[0;32m    682\u001b[0m         \u001b[1;32melse\u001b[0m\u001b[1;33m:\u001b[0m\u001b[1;33m\u001b[0m\u001b[1;33m\u001b[0m\u001b[0m\n\u001b[1;32m--> 683\u001b[1;33m             \u001b[1;32mraise\u001b[0m \u001b[0mself\u001b[0m\u001b[1;33m.\u001b[0m\u001b[0m_value\u001b[0m\u001b[1;33m\u001b[0m\u001b[1;33m\u001b[0m\u001b[0m\n\u001b[0m\u001b[0;32m    684\u001b[0m \u001b[1;33m\u001b[0m\u001b[0m\n\u001b[0;32m    685\u001b[0m     \u001b[1;32mdef\u001b[0m \u001b[0m_set\u001b[0m\u001b[1;33m(\u001b[0m\u001b[0mself\u001b[0m\u001b[1;33m,\u001b[0m \u001b[0mi\u001b[0m\u001b[1;33m,\u001b[0m \u001b[0mobj\u001b[0m\u001b[1;33m)\u001b[0m\u001b[1;33m:\u001b[0m\u001b[1;33m\u001b[0m\u001b[1;33m\u001b[0m\u001b[0m\n",
      "\u001b[1;32m~\\Anaconda3\\lib\\multiprocessing\\pool.py\u001b[0m in \u001b[0;36mworker\u001b[1;34m(inqueue, outqueue, initializer, initargs, maxtasks, wrap_exception)\u001b[0m\n\u001b[0;32m    119\u001b[0m         \u001b[0mjob\u001b[0m\u001b[1;33m,\u001b[0m \u001b[0mi\u001b[0m\u001b[1;33m,\u001b[0m \u001b[0mfunc\u001b[0m\u001b[1;33m,\u001b[0m \u001b[0margs\u001b[0m\u001b[1;33m,\u001b[0m \u001b[0mkwds\u001b[0m \u001b[1;33m=\u001b[0m \u001b[0mtask\u001b[0m\u001b[1;33m\u001b[0m\u001b[1;33m\u001b[0m\u001b[0m\n\u001b[0;32m    120\u001b[0m         \u001b[1;32mtry\u001b[0m\u001b[1;33m:\u001b[0m\u001b[1;33m\u001b[0m\u001b[1;33m\u001b[0m\u001b[0m\n\u001b[1;32m--> 121\u001b[1;33m             \u001b[0mresult\u001b[0m \u001b[1;33m=\u001b[0m \u001b[1;33m(\u001b[0m\u001b[1;32mTrue\u001b[0m\u001b[1;33m,\u001b[0m \u001b[0mfunc\u001b[0m\u001b[1;33m(\u001b[0m\u001b[1;33m*\u001b[0m\u001b[0margs\u001b[0m\u001b[1;33m,\u001b[0m \u001b[1;33m**\u001b[0m\u001b[0mkwds\u001b[0m\u001b[1;33m)\u001b[0m\u001b[1;33m)\u001b[0m\u001b[1;33m\u001b[0m\u001b[1;33m\u001b[0m\u001b[0m\n\u001b[0m\u001b[0;32m    122\u001b[0m         \u001b[1;32mexcept\u001b[0m \u001b[0mException\u001b[0m \u001b[1;32mas\u001b[0m \u001b[0me\u001b[0m\u001b[1;33m:\u001b[0m\u001b[1;33m\u001b[0m\u001b[1;33m\u001b[0m\u001b[0m\n\u001b[0;32m    123\u001b[0m             \u001b[1;32mif\u001b[0m \u001b[0mwrap_exception\u001b[0m \u001b[1;32mand\u001b[0m \u001b[0mfunc\u001b[0m \u001b[1;32mis\u001b[0m \u001b[1;32mnot\u001b[0m \u001b[0m_helper_reraises_exception\u001b[0m\u001b[1;33m:\u001b[0m\u001b[1;33m\u001b[0m\u001b[1;33m\u001b[0m\u001b[0m\n",
      "\u001b[1;32m~\\Anaconda3\\lib\\site-packages\\sklearn\\externals\\joblib\\_parallel_backends.py\u001b[0m in \u001b[0;36m__call__\u001b[1;34m(self, *args, **kwargs)\u001b[0m\n\u001b[0;32m    565\u001b[0m     \u001b[1;32mdef\u001b[0m \u001b[0m__call__\u001b[0m\u001b[1;33m(\u001b[0m\u001b[0mself\u001b[0m\u001b[1;33m,\u001b[0m \u001b[1;33m*\u001b[0m\u001b[0margs\u001b[0m\u001b[1;33m,\u001b[0m \u001b[1;33m**\u001b[0m\u001b[0mkwargs\u001b[0m\u001b[1;33m)\u001b[0m\u001b[1;33m:\u001b[0m\u001b[1;33m\u001b[0m\u001b[1;33m\u001b[0m\u001b[0m\n\u001b[0;32m    566\u001b[0m         \u001b[1;32mtry\u001b[0m\u001b[1;33m:\u001b[0m\u001b[1;33m\u001b[0m\u001b[1;33m\u001b[0m\u001b[0m\n\u001b[1;32m--> 567\u001b[1;33m             \u001b[1;32mreturn\u001b[0m \u001b[0mself\u001b[0m\u001b[1;33m.\u001b[0m\u001b[0mfunc\u001b[0m\u001b[1;33m(\u001b[0m\u001b[1;33m*\u001b[0m\u001b[0margs\u001b[0m\u001b[1;33m,\u001b[0m \u001b[1;33m**\u001b[0m\u001b[0mkwargs\u001b[0m\u001b[1;33m)\u001b[0m\u001b[1;33m\u001b[0m\u001b[1;33m\u001b[0m\u001b[0m\n\u001b[0m\u001b[0;32m    568\u001b[0m         \u001b[1;32mexcept\u001b[0m \u001b[0mKeyboardInterrupt\u001b[0m\u001b[1;33m:\u001b[0m\u001b[1;33m\u001b[0m\u001b[1;33m\u001b[0m\u001b[0m\n\u001b[0;32m    569\u001b[0m             \u001b[1;31m# We capture the KeyboardInterrupt and reraise it as\u001b[0m\u001b[1;33m\u001b[0m\u001b[1;33m\u001b[0m\u001b[1;33m\u001b[0m\u001b[0m\n",
      "\u001b[1;32m~\\Anaconda3\\lib\\site-packages\\sklearn\\externals\\joblib\\parallel.py\u001b[0m in \u001b[0;36m__call__\u001b[1;34m(self)\u001b[0m\n\u001b[0;32m    223\u001b[0m         \u001b[1;32mwith\u001b[0m \u001b[0mparallel_backend\u001b[0m\u001b[1;33m(\u001b[0m\u001b[0mself\u001b[0m\u001b[1;33m.\u001b[0m\u001b[0m_backend\u001b[0m\u001b[1;33m,\u001b[0m \u001b[0mn_jobs\u001b[0m\u001b[1;33m=\u001b[0m\u001b[0mself\u001b[0m\u001b[1;33m.\u001b[0m\u001b[0m_n_jobs\u001b[0m\u001b[1;33m)\u001b[0m\u001b[1;33m:\u001b[0m\u001b[1;33m\u001b[0m\u001b[1;33m\u001b[0m\u001b[0m\n\u001b[0;32m    224\u001b[0m             return [func(*args, **kwargs)\n\u001b[1;32m--> 225\u001b[1;33m                     for func, args, kwargs in self.items]\n\u001b[0m\u001b[0;32m    226\u001b[0m \u001b[1;33m\u001b[0m\u001b[0m\n\u001b[0;32m    227\u001b[0m     \u001b[1;32mdef\u001b[0m \u001b[0m__len__\u001b[0m\u001b[1;33m(\u001b[0m\u001b[0mself\u001b[0m\u001b[1;33m)\u001b[0m\u001b[1;33m:\u001b[0m\u001b[1;33m\u001b[0m\u001b[1;33m\u001b[0m\u001b[0m\n",
      "\u001b[1;32m~\\Anaconda3\\lib\\site-packages\\sklearn\\externals\\joblib\\parallel.py\u001b[0m in \u001b[0;36m<listcomp>\u001b[1;34m(.0)\u001b[0m\n\u001b[0;32m    223\u001b[0m         \u001b[1;32mwith\u001b[0m \u001b[0mparallel_backend\u001b[0m\u001b[1;33m(\u001b[0m\u001b[0mself\u001b[0m\u001b[1;33m.\u001b[0m\u001b[0m_backend\u001b[0m\u001b[1;33m,\u001b[0m \u001b[0mn_jobs\u001b[0m\u001b[1;33m=\u001b[0m\u001b[0mself\u001b[0m\u001b[1;33m.\u001b[0m\u001b[0m_n_jobs\u001b[0m\u001b[1;33m)\u001b[0m\u001b[1;33m:\u001b[0m\u001b[1;33m\u001b[0m\u001b[1;33m\u001b[0m\u001b[0m\n\u001b[0;32m    224\u001b[0m             return [func(*args, **kwargs)\n\u001b[1;32m--> 225\u001b[1;33m                     for func, args, kwargs in self.items]\n\u001b[0m\u001b[0;32m    226\u001b[0m \u001b[1;33m\u001b[0m\u001b[0m\n\u001b[0;32m    227\u001b[0m     \u001b[1;32mdef\u001b[0m \u001b[0m__len__\u001b[0m\u001b[1;33m(\u001b[0m\u001b[0mself\u001b[0m\u001b[1;33m)\u001b[0m\u001b[1;33m:\u001b[0m\u001b[1;33m\u001b[0m\u001b[1;33m\u001b[0m\u001b[0m\n",
      "\u001b[1;32m~\\Anaconda3\\lib\\site-packages\\sklearn\\ensemble\\forest.py\u001b[0m in \u001b[0;36m_parallel_build_trees\u001b[1;34m(tree, forest, X, y, sample_weight, tree_idx, n_trees, verbose, class_weight)\u001b[0m\n\u001b[0;32m    117\u001b[0m             \u001b[0mcurr_sample_weight\u001b[0m \u001b[1;33m*=\u001b[0m \u001b[0mcompute_sample_weight\u001b[0m\u001b[1;33m(\u001b[0m\u001b[1;34m'balanced'\u001b[0m\u001b[1;33m,\u001b[0m \u001b[0my\u001b[0m\u001b[1;33m,\u001b[0m \u001b[0mindices\u001b[0m\u001b[1;33m)\u001b[0m\u001b[1;33m\u001b[0m\u001b[1;33m\u001b[0m\u001b[0m\n\u001b[0;32m    118\u001b[0m \u001b[1;33m\u001b[0m\u001b[0m\n\u001b[1;32m--> 119\u001b[1;33m         \u001b[0mtree\u001b[0m\u001b[1;33m.\u001b[0m\u001b[0mfit\u001b[0m\u001b[1;33m(\u001b[0m\u001b[0mX\u001b[0m\u001b[1;33m,\u001b[0m \u001b[0my\u001b[0m\u001b[1;33m,\u001b[0m \u001b[0msample_weight\u001b[0m\u001b[1;33m=\u001b[0m\u001b[0mcurr_sample_weight\u001b[0m\u001b[1;33m,\u001b[0m \u001b[0mcheck_input\u001b[0m\u001b[1;33m=\u001b[0m\u001b[1;32mFalse\u001b[0m\u001b[1;33m)\u001b[0m\u001b[1;33m\u001b[0m\u001b[1;33m\u001b[0m\u001b[0m\n\u001b[0m\u001b[0;32m    120\u001b[0m     \u001b[1;32melse\u001b[0m\u001b[1;33m:\u001b[0m\u001b[1;33m\u001b[0m\u001b[1;33m\u001b[0m\u001b[0m\n\u001b[0;32m    121\u001b[0m         \u001b[0mtree\u001b[0m\u001b[1;33m.\u001b[0m\u001b[0mfit\u001b[0m\u001b[1;33m(\u001b[0m\u001b[0mX\u001b[0m\u001b[1;33m,\u001b[0m \u001b[0my\u001b[0m\u001b[1;33m,\u001b[0m \u001b[0msample_weight\u001b[0m\u001b[1;33m=\u001b[0m\u001b[0msample_weight\u001b[0m\u001b[1;33m,\u001b[0m \u001b[0mcheck_input\u001b[0m\u001b[1;33m=\u001b[0m\u001b[1;32mFalse\u001b[0m\u001b[1;33m)\u001b[0m\u001b[1;33m\u001b[0m\u001b[1;33m\u001b[0m\u001b[0m\n",
      "\u001b[1;32m~\\Anaconda3\\lib\\site-packages\\sklearn\\tree\\tree.py\u001b[0m in \u001b[0;36mfit\u001b[1;34m(self, X, y, sample_weight, check_input, X_idx_sorted)\u001b[0m\n\u001b[0;32m    799\u001b[0m             \u001b[0msample_weight\u001b[0m\u001b[1;33m=\u001b[0m\u001b[0msample_weight\u001b[0m\u001b[1;33m,\u001b[0m\u001b[1;33m\u001b[0m\u001b[1;33m\u001b[0m\u001b[0m\n\u001b[0;32m    800\u001b[0m             \u001b[0mcheck_input\u001b[0m\u001b[1;33m=\u001b[0m\u001b[0mcheck_input\u001b[0m\u001b[1;33m,\u001b[0m\u001b[1;33m\u001b[0m\u001b[1;33m\u001b[0m\u001b[0m\n\u001b[1;32m--> 801\u001b[1;33m             X_idx_sorted=X_idx_sorted)\n\u001b[0m\u001b[0;32m    802\u001b[0m         \u001b[1;32mreturn\u001b[0m \u001b[0mself\u001b[0m\u001b[1;33m\u001b[0m\u001b[1;33m\u001b[0m\u001b[0m\n\u001b[0;32m    803\u001b[0m \u001b[1;33m\u001b[0m\u001b[0m\n",
      "\u001b[1;32m~\\Anaconda3\\lib\\site-packages\\sklearn\\tree\\tree.py\u001b[0m in \u001b[0;36mfit\u001b[1;34m(self, X, y, sample_weight, check_input, X_idx_sorted)\u001b[0m\n\u001b[0;32m    195\u001b[0m             \u001b[0mmin_samples_split\u001b[0m \u001b[1;33m=\u001b[0m \u001b[0mself\u001b[0m\u001b[1;33m.\u001b[0m\u001b[0mmin_samples_split\u001b[0m\u001b[1;33m\u001b[0m\u001b[1;33m\u001b[0m\u001b[0m\n\u001b[0;32m    196\u001b[0m         \u001b[1;32melse\u001b[0m\u001b[1;33m:\u001b[0m  \u001b[1;31m# float\u001b[0m\u001b[1;33m\u001b[0m\u001b[1;33m\u001b[0m\u001b[0m\n\u001b[1;32m--> 197\u001b[1;33m             \u001b[1;32mif\u001b[0m \u001b[1;32mnot\u001b[0m \u001b[1;36m0.\u001b[0m \u001b[1;33m<\u001b[0m \u001b[0mself\u001b[0m\u001b[1;33m.\u001b[0m\u001b[0mmin_samples_split\u001b[0m \u001b[1;33m<=\u001b[0m \u001b[1;36m1.\u001b[0m\u001b[1;33m:\u001b[0m\u001b[1;33m\u001b[0m\u001b[1;33m\u001b[0m\u001b[0m\n\u001b[0m\u001b[0;32m    198\u001b[0m                 raise ValueError(\"min_samples_split must be an integer \"\n\u001b[0;32m    199\u001b[0m                                  \u001b[1;34m\"greater than 1 or a float in (0.0, 1.0]; \"\u001b[0m\u001b[1;33m\u001b[0m\u001b[1;33m\u001b[0m\u001b[0m\n",
      "\u001b[1;31mTypeError\u001b[0m: '<' not supported between instances of 'float' and 'list'"
     ]
    }
   ],
   "source": [
    "n = [0.1,1.0,10]\n",
    "for x in n:\n",
    "    print(\"X = \", x)\n",
    "    #creating a random forest classifier\n",
    "    clf = RandomForestClassifier(n_jobs=2,min_samples_split=n, random_state=0)\n",
    "    #training the classifier\n",
    "    clf.fit(X_train,y_train)\n",
    "    y_pred = clf.predict(X_test)\n",
    "    cm = confusion_matrix(y_pred,y_test)\n",
    "    print(cm)\n",
    "    # For Class A\n",
    "    print(\"Class A:\")\n",
    "    TP,TN,FP,FN = cm[0][0],(cm[1][1]+cm[2][2]),(cm[0][1]+cm[0][2]),(cm[1][0]+cm[2][0])\n",
    "    print(\"TP:\",TP , \" \" , \"TN:\",TN,\" \",\"FP:\",FP,\" \",\"FN:\",FN)\n",
    "    precision_A = TP/(TP+FP)\n",
    "    recall_A = TP/(TP+FN)\n",
    "    specificity_A = TN/(FP+TN)\n",
    "    F1_A = (2*TP)/(2*TP+FP+FN)\n",
    "    acc_A = (TP+TN)/(TP+TN+FP+FN)\n",
    "    print(\"Precision:\",precision_A)\n",
    "    print(\"Recall: \",recall_A)\n",
    "    print(\"Specificity: \",specificity_A)\n",
    "    print(\"F1 Score: \",F1_A)\n",
    "    print(\"Accuracy: \",acc_A)\n",
    "    # For Class B\n",
    "    #print(\"\\n\")\n",
    "    print(\"Class B:\")\n",
    "    TP,TN,FP,FN = cm[1][1],(cm[0][0]+cm[2][2]),(cm[1][0]+cm[1][2]),(cm[0][1]+cm[2][1])\n",
    "    print(\"TP:\",TP , \" \" , \"TN:\",TN,\" \",\"FP:\",FP,\" \",\"FN:\",FN)\n",
    "    precision_B = TP/(TP+FP)\n",
    "    recall_B = TP/(TP+FN)\n",
    "    specificity_B = TN/(FP+TN)\n",
    "    F1_B = (2*TP)/(2*TP+FP+FN)\n",
    "    acc_B = (TP+TN)/(TP+TN+FP+FN)\n",
    "    print(\"Precision:\",precision_B)\n",
    "    print(\"Recall: \",recall_B)\n",
    "    print(\"Specificity: \",specificity_B)\n",
    "    print(\"F1 Score: \",F1_B)\n",
    "    print(\"Accuracy: \",acc_B)\n",
    "    # For Class C\n",
    "    #print(\"\\n\")\n",
    "    print(\"Class C:\")\n",
    "    TP,TN,FP,FN = cm[2][2],(cm[0][0]+cm[1][1]),(cm[2][0]+cm[2][1]),(cm[0][2]+cm[1][2])\n",
    "    print(\"TP:\",TP , \" \" , \"TN:\",TN,\" \",\"FP:\",FP,\" \",\"FN:\",FN)\n",
    "    precision_C = TP/(TP+FP)\n",
    "    recall_C = TP/(TP+FN)\n",
    "    specificity_C = TN/(FP+TN)\n",
    "    F1_C = (2*TP)/(2*TP+FP+FN)\n",
    "    acc_C = (TP+TN)/(TP+TN+FP+FN)\n",
    "    print(\"Precision:\",precision_C)\n",
    "    print(\"Recall: \",recall_C)\n",
    "    print(\"Specificity: \",specificity_C)\n",
    "    print(\"F1 Score: \",F1_C)\n",
    "    print(\"Accuracy: \",acc_C)\n",
    "    #print(\"\\n\")\n",
    "    all_precision = (precision_A*39 + precision_B*83 + precision_C*1318) / 1440\n",
    "    all_recall = (recall_A*39 + recall_B*83 + recall_C*1318) / 1440\n",
    "    all_specificity = (specificity_A*39 + specificity_B*83 + specificity_C*1318) / 1440\n",
    "    all_accuracy = (acc_A*39 + acc_B*83 + acc_C*1318) / 1440\n",
    "    all_F1 =  (F1_A*39 + F1_B*83 + F1_C*1318) / 1440\n",
    "    print(\"Overall Precision: \",all_precision)\n",
    "    print(\"Overall Recall: \",all_recall)\n",
    "    print(\"Overall Specificity: \",all_specificity)\n",
    "    print(\"Overall Accuracy: \",all_accuracy)\n",
    "    print(\"Overall F1 Score: \",all_F1)\n",
    "    print(\"\\n\")"
   ]
  },
  {
   "cell_type": "markdown",
   "metadata": {},
   "source": [
    "<center><h2> Algorithm 3:  K Nearest Neighbours </h2> </center>\n",
    "<h4> Step 4: Fit the Model </h4>"
   ]
  },
  {
   "cell_type": "code",
   "execution_count": 12,
   "metadata": {},
   "outputs": [
    {
     "data": {
      "text/plain": [
       "37.94733192202055"
      ]
     },
     "execution_count": 12,
     "metadata": {},
     "output_type": "execute_result"
    }
   ],
   "source": [
    "#feature Scaling:\n",
    "sc_X = StandardScaler()\n",
    "X_train = sc_X.fit_transform(X_train)\n",
    "X_test = sc_X.transform(X_test)\n",
    "import math\n",
    "math.sqrt(len(y_test))"
   ]
  },
  {
   "cell_type": "code",
   "execution_count": 13,
   "metadata": {},
   "outputs": [
    {
     "data": {
      "text/plain": [
       "KNeighborsClassifier(algorithm='auto', leaf_size=30, metric='euclidean',\n",
       "           metric_params=None, n_jobs=None, n_neighbors=1, p=2,\n",
       "           weights='uniform')"
      ]
     },
     "execution_count": 13,
     "metadata": {},
     "output_type": "execute_result"
    }
   ],
   "source": [
    "#Define the model: Init KNN\n",
    "knn = KNeighborsClassifier(n_neighbors=1,p=2,metric='euclidean')\n",
    "\n",
    "#fit Model\n",
    "knn.fit(X_train,y_train)\n"
   ]
  },
  {
   "cell_type": "markdown",
   "metadata": {},
   "source": [
    "<h4> Step 5: Confusion Matrix and Model Analysis </h4>"
   ]
  },
  {
   "cell_type": "code",
   "execution_count": 14,
   "metadata": {},
   "outputs": [
    {
     "data": {
      "text/plain": [
       "array([3, 3, 3, ..., 3, 3, 3], dtype=int64)"
      ]
     },
     "execution_count": 14,
     "metadata": {},
     "output_type": "execute_result"
    }
   ],
   "source": [
    "y_pred = knn.predict(X_test)\n",
    "y_pred"
   ]
  },
  {
   "cell_type": "code",
   "execution_count": 15,
   "metadata": {},
   "outputs": [
    {
     "data": {
      "text/html": [
       "<div>\n",
       "<style scoped>\n",
       "    .dataframe tbody tr th:only-of-type {\n",
       "        vertical-align: middle;\n",
       "    }\n",
       "\n",
       "    .dataframe tbody tr th {\n",
       "        vertical-align: top;\n",
       "    }\n",
       "\n",
       "    .dataframe thead th {\n",
       "        text-align: right;\n",
       "    }\n",
       "</style>\n",
       "<table border=\"1\" class=\"dataframe\">\n",
       "  <thead>\n",
       "    <tr style=\"text-align: right;\">\n",
       "      <th>Actual</th>\n",
       "      <th>1</th>\n",
       "      <th>2</th>\n",
       "      <th>3</th>\n",
       "    </tr>\n",
       "    <tr>\n",
       "      <th>Predicted</th>\n",
       "      <th></th>\n",
       "      <th></th>\n",
       "      <th></th>\n",
       "    </tr>\n",
       "  </thead>\n",
       "  <tbody>\n",
       "    <tr>\n",
       "      <th>1</th>\n",
       "      <td>28</td>\n",
       "      <td>1</td>\n",
       "      <td>4</td>\n",
       "    </tr>\n",
       "    <tr>\n",
       "      <th>2</th>\n",
       "      <td>5</td>\n",
       "      <td>48</td>\n",
       "      <td>16</td>\n",
       "    </tr>\n",
       "    <tr>\n",
       "      <th>3</th>\n",
       "      <td>6</td>\n",
       "      <td>34</td>\n",
       "      <td>1298</td>\n",
       "    </tr>\n",
       "  </tbody>\n",
       "</table>\n",
       "</div>"
      ],
      "text/plain": [
       "Actual      1   2     3\n",
       "Predicted              \n",
       "1          28   1     4\n",
       "2           5  48    16\n",
       "3           6  34  1298"
      ]
     },
     "execution_count": 15,
     "metadata": {},
     "output_type": "execute_result"
    }
   ],
   "source": [
    "# Evaluating the model\n",
    "#cm = confusion_matrix(y_test,y_pred)\n",
    "#Creating Confusion matrix\n",
    "mat = pd.crosstab(y_pred,y_test,rownames=['Predicted'],colnames=['Actual'])\n",
    "mat"
   ]
  },
  {
   "cell_type": "code",
   "execution_count": 16,
   "metadata": {},
   "outputs": [
    {
     "name": "stdout",
     "output_type": "stream",
     "text": [
      "95.41666666666667\n"
     ]
    }
   ],
   "source": [
    "correct = mat[1][1] + mat[2][2] + mat[3][3]\n",
    "acuracy = (correct/len(X_test)) * 100\n",
    "print(acuracy)"
   ]
  },
  {
   "cell_type": "code",
   "execution_count": 17,
   "metadata": {},
   "outputs": [
    {
     "data": {
      "text/plain": [
       "0.9541666666666667"
      ]
     },
     "execution_count": 17,
     "metadata": {},
     "output_type": "execute_result"
    }
   ],
   "source": [
    "knn.score(X_test,y_test)"
   ]
  },
  {
   "cell_type": "markdown",
   "metadata": {},
   "source": [
    "<h4> Step 6: Predict a new Case </h4>"
   ]
  },
  {
   "cell_type": "code",
   "execution_count": 18,
   "metadata": {},
   "outputs": [
    {
     "data": {
      "text/html": [
       "<div>\n",
       "<style scoped>\n",
       "    .dataframe tbody tr th:only-of-type {\n",
       "        vertical-align: middle;\n",
       "    }\n",
       "\n",
       "    .dataframe tbody tr th {\n",
       "        vertical-align: top;\n",
       "    }\n",
       "\n",
       "    .dataframe thead th {\n",
       "        text-align: right;\n",
       "    }\n",
       "</style>\n",
       "<table border=\"1\" class=\"dataframe\">\n",
       "  <thead>\n",
       "    <tr style=\"text-align: right;\">\n",
       "      <th></th>\n",
       "      <th>TSH</th>\n",
       "      <th>T3</th>\n",
       "      <th>TT4</th>\n",
       "      <th>T4U</th>\n",
       "      <th>FTI</th>\n",
       "      <th>Class</th>\n",
       "    </tr>\n",
       "  </thead>\n",
       "  <tbody>\n",
       "    <tr>\n",
       "      <th>7000</th>\n",
       "      <td>0.00190</td>\n",
       "      <td>0.015</td>\n",
       "      <td>0.102</td>\n",
       "      <td>0.080</td>\n",
       "      <td>0.128</td>\n",
       "      <td>3</td>\n",
       "    </tr>\n",
       "    <tr>\n",
       "      <th>7001</th>\n",
       "      <td>0.00839</td>\n",
       "      <td>0.017</td>\n",
       "      <td>0.094</td>\n",
       "      <td>0.084</td>\n",
       "      <td>0.112</td>\n",
       "      <td>2</td>\n",
       "    </tr>\n",
       "    <tr>\n",
       "      <th>7002</th>\n",
       "      <td>0.00100</td>\n",
       "      <td>0.027</td>\n",
       "      <td>0.161</td>\n",
       "      <td>0.092</td>\n",
       "      <td>0.175</td>\n",
       "      <td>3</td>\n",
       "    </tr>\n",
       "    <tr>\n",
       "      <th>7003</th>\n",
       "      <td>0.00056</td>\n",
       "      <td>0.029</td>\n",
       "      <td>0.158</td>\n",
       "      <td>0.075</td>\n",
       "      <td>0.211</td>\n",
       "      <td>3</td>\n",
       "    </tr>\n",
       "    <tr>\n",
       "      <th>7004</th>\n",
       "      <td>0.00220</td>\n",
       "      <td>0.024</td>\n",
       "      <td>0.085</td>\n",
       "      <td>0.055</td>\n",
       "      <td>0.155</td>\n",
       "      <td>3</td>\n",
       "    </tr>\n",
       "  </tbody>\n",
       "</table>\n",
       "</div>"
      ],
      "text/plain": [
       "          TSH     T3    TT4    T4U    FTI  Class\n",
       "7000  0.00190  0.015  0.102  0.080  0.128      3\n",
       "7001  0.00839  0.017  0.094  0.084  0.112      2\n",
       "7002  0.00100  0.027  0.161  0.092  0.175      3\n",
       "7003  0.00056  0.029  0.158  0.075  0.211      3\n",
       "7004  0.00220  0.024  0.085  0.055  0.155      3"
      ]
     },
     "execution_count": 18,
     "metadata": {},
     "output_type": "execute_result"
    }
   ],
   "source": [
    "dia[7000:7005]"
   ]
  },
  {
   "cell_type": "code",
   "execution_count": 19,
   "metadata": {},
   "outputs": [
    {
     "ename": "NotFittedError",
     "evalue": "Estimator not fitted, call `fit` before exploiting the model.",
     "output_type": "error",
     "traceback": [
      "\u001b[1;31m---------------------------------------------------------------------------\u001b[0m",
      "\u001b[1;31mNotFittedError\u001b[0m                            Traceback (most recent call last)",
      "\u001b[1;32m<ipython-input-19-61435d43a394>\u001b[0m in \u001b[0;36m<module>\u001b[1;34m\u001b[0m\n\u001b[0;32m      1\u001b[0m \u001b[0mnew\u001b[0m \u001b[1;33m=\u001b[0m \u001b[1;33m[\u001b[0m\u001b[1;33m[\u001b[0m\u001b[1;36m0.00839\u001b[0m\u001b[1;33m,\u001b[0m\u001b[1;36m0.017\u001b[0m\u001b[1;33m,\u001b[0m\u001b[1;36m0.094\u001b[0m\u001b[1;33m,\u001b[0m\u001b[1;36m0.084\u001b[0m\u001b[1;33m,\u001b[0m\u001b[1;36m0.112\u001b[0m\u001b[1;33m]\u001b[0m\u001b[1;33m,\u001b[0m\u001b[1;33m[\u001b[0m\u001b[1;36m0.02500\u001b[0m\u001b[1;33m,\u001b[0m\u001b[1;36m0.0040\u001b[0m\u001b[1;33m,\u001b[0m\u001b[1;36m0.03900\u001b[0m\u001b[1;33m,\u001b[0m\u001b[1;36m0.061\u001b[0m\u001b[1;33m,\u001b[0m\u001b[1;36m0.06400\u001b[0m\u001b[1;33m]\u001b[0m\u001b[1;33m]\u001b[0m\u001b[1;33m\u001b[0m\u001b[1;33m\u001b[0m\u001b[0m\n\u001b[1;32m----> 2\u001b[1;33m \u001b[0mclf\u001b[0m\u001b[1;33m.\u001b[0m\u001b[0mpredict\u001b[0m\u001b[1;33m(\u001b[0m\u001b[0mnew\u001b[0m\u001b[1;33m)\u001b[0m\u001b[1;33m\u001b[0m\u001b[1;33m\u001b[0m\u001b[0m\n\u001b[0m",
      "\u001b[1;32m~\\Anaconda3\\lib\\site-packages\\sklearn\\ensemble\\forest.py\u001b[0m in \u001b[0;36mpredict\u001b[1;34m(self, X)\u001b[0m\n\u001b[0;32m    541\u001b[0m             \u001b[0mThe\u001b[0m \u001b[0mpredicted\u001b[0m \u001b[0mclasses\u001b[0m\u001b[1;33m.\u001b[0m\u001b[1;33m\u001b[0m\u001b[1;33m\u001b[0m\u001b[0m\n\u001b[0;32m    542\u001b[0m         \"\"\"\n\u001b[1;32m--> 543\u001b[1;33m         \u001b[0mproba\u001b[0m \u001b[1;33m=\u001b[0m \u001b[0mself\u001b[0m\u001b[1;33m.\u001b[0m\u001b[0mpredict_proba\u001b[0m\u001b[1;33m(\u001b[0m\u001b[0mX\u001b[0m\u001b[1;33m)\u001b[0m\u001b[1;33m\u001b[0m\u001b[1;33m\u001b[0m\u001b[0m\n\u001b[0m\u001b[0;32m    544\u001b[0m \u001b[1;33m\u001b[0m\u001b[0m\n\u001b[0;32m    545\u001b[0m         \u001b[1;32mif\u001b[0m \u001b[0mself\u001b[0m\u001b[1;33m.\u001b[0m\u001b[0mn_outputs_\u001b[0m \u001b[1;33m==\u001b[0m \u001b[1;36m1\u001b[0m\u001b[1;33m:\u001b[0m\u001b[1;33m\u001b[0m\u001b[1;33m\u001b[0m\u001b[0m\n",
      "\u001b[1;32m~\\Anaconda3\\lib\\site-packages\\sklearn\\ensemble\\forest.py\u001b[0m in \u001b[0;36mpredict_proba\u001b[1;34m(self, X)\u001b[0m\n\u001b[0;32m    581\u001b[0m         \u001b[0mcheck_is_fitted\u001b[0m\u001b[1;33m(\u001b[0m\u001b[0mself\u001b[0m\u001b[1;33m,\u001b[0m \u001b[1;34m'estimators_'\u001b[0m\u001b[1;33m)\u001b[0m\u001b[1;33m\u001b[0m\u001b[1;33m\u001b[0m\u001b[0m\n\u001b[0;32m    582\u001b[0m         \u001b[1;31m# Check data\u001b[0m\u001b[1;33m\u001b[0m\u001b[1;33m\u001b[0m\u001b[1;33m\u001b[0m\u001b[0m\n\u001b[1;32m--> 583\u001b[1;33m         \u001b[0mX\u001b[0m \u001b[1;33m=\u001b[0m \u001b[0mself\u001b[0m\u001b[1;33m.\u001b[0m\u001b[0m_validate_X_predict\u001b[0m\u001b[1;33m(\u001b[0m\u001b[0mX\u001b[0m\u001b[1;33m)\u001b[0m\u001b[1;33m\u001b[0m\u001b[1;33m\u001b[0m\u001b[0m\n\u001b[0m\u001b[0;32m    584\u001b[0m \u001b[1;33m\u001b[0m\u001b[0m\n\u001b[0;32m    585\u001b[0m         \u001b[1;31m# Assign chunk of trees to jobs\u001b[0m\u001b[1;33m\u001b[0m\u001b[1;33m\u001b[0m\u001b[1;33m\u001b[0m\u001b[0m\n",
      "\u001b[1;32m~\\Anaconda3\\lib\\site-packages\\sklearn\\ensemble\\forest.py\u001b[0m in \u001b[0;36m_validate_X_predict\u001b[1;34m(self, X)\u001b[0m\n\u001b[0;32m    357\u001b[0m         \u001b[1;34m\"\"\"Validate X whenever one tries to predict, apply, predict_proba\"\"\"\u001b[0m\u001b[1;33m\u001b[0m\u001b[1;33m\u001b[0m\u001b[0m\n\u001b[0;32m    358\u001b[0m         \u001b[1;32mif\u001b[0m \u001b[0mself\u001b[0m\u001b[1;33m.\u001b[0m\u001b[0mestimators_\u001b[0m \u001b[1;32mis\u001b[0m \u001b[1;32mNone\u001b[0m \u001b[1;32mor\u001b[0m \u001b[0mlen\u001b[0m\u001b[1;33m(\u001b[0m\u001b[0mself\u001b[0m\u001b[1;33m.\u001b[0m\u001b[0mestimators_\u001b[0m\u001b[1;33m)\u001b[0m \u001b[1;33m==\u001b[0m \u001b[1;36m0\u001b[0m\u001b[1;33m:\u001b[0m\u001b[1;33m\u001b[0m\u001b[1;33m\u001b[0m\u001b[0m\n\u001b[1;32m--> 359\u001b[1;33m             raise NotFittedError(\"Estimator not fitted, \"\n\u001b[0m\u001b[0;32m    360\u001b[0m                                  \"call `fit` before exploiting the model.\")\n\u001b[0;32m    361\u001b[0m \u001b[1;33m\u001b[0m\u001b[0m\n",
      "\u001b[1;31mNotFittedError\u001b[0m: Estimator not fitted, call `fit` before exploiting the model."
     ]
    }
   ],
   "source": [
    "new = [[0.00839,0.017,0.094,0.084,0.112],[0.02500,0.0040,0.03900,0.061,0.06400]]\n",
    "clf.predict(new)"
   ]
  },
  {
   "cell_type": "markdown",
   "metadata": {},
   "source": [
    "<center> <h2>Algorithm 4: Artificial Neural Network </h2> </center>"
   ]
  },
  {
   "cell_type": "code",
   "execution_count": null,
   "metadata": {},
   "outputs": [],
   "source": []
  }
 ],
 "metadata": {
  "kernelspec": {
   "display_name": "Python 3",
   "language": "python",
   "name": "python3"
  },
  "language_info": {
   "codemirror_mode": {
    "name": "ipython",
    "version": 3
   },
   "file_extension": ".py",
   "mimetype": "text/x-python",
   "name": "python",
   "nbconvert_exporter": "python",
   "pygments_lexer": "ipython3",
   "version": "3.7.1"
  }
 },
 "nbformat": 4,
 "nbformat_minor": 2
}
